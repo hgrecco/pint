{
 "cells": [
  {
   "cell_type": "markdown",
   "metadata": {},
   "source": [
    "# Pandas support\n",
    "\n",
    "It is convenient to use pandas when dealing with numerical data, so pint provides PintArray to allow quantities to be used with Pandas. A PintArray is a pandas ExtensionArray, which allows pandas to recognise the Quantity and store it in DataFrames or Series. https://pandas.pydata.org/pandas-docs/stable/generated/pandas.api.extensions.ExtensionArray.html"
   ]
  },
  {
   "cell_type": "code",
   "execution_count": 1,
   "metadata": {},
   "outputs": [
    {
     "name": "stdout",
     "output_type": "stream",
     "text": [
      "Package              Version                  Location                                          \r\n",
      "-------------------- ------------------------ --------------------------------------------------\r\n",
      "appdirs              1.4.3                    \r\n",
      "appnope              0.1.0                    \r\n",
      "asn1crypto           0.24.0                   \r\n",
      "atomicwrites         1.1.5                    \r\n",
      "attrs                18.1.0                   \r\n",
      "Automat              0.0.0                    \r\n",
      "backcall             0.1.0                    \r\n",
      "bleach               2.1.4                    \r\n",
      "certifi              2018.8.24                \r\n",
      "cffi                 1.11.5                   \r\n",
      "chardet              3.0.4                    \r\n",
      "constantly           15.1.0                   \r\n",
      "coverage             4.5.1                    \r\n",
      "coveralls            1.3.0                    \r\n",
      "cryptography         2.3.1                    \r\n",
      "cryptography-vectors 2.3.1                    \r\n",
      "Cython               0.28.5                   \r\n",
      "decorator            4.3.0                    \r\n",
      "docopt               0.6.2                    \r\n",
      "entrypoints          0.2.3                    \r\n",
      "html5lib             1.0.1                    \r\n",
      "hyperlink            17.3.1                   \r\n",
      "idna                 2.7                      \r\n",
      "incremental          17.5.0                   \r\n",
      "ipykernel            4.8.2                    \r\n",
      "ipython              6.5.0                    \r\n",
      "ipython-genutils     0.2.0                    \r\n",
      "ipywidgets           7.4.0                    \r\n",
      "jedi                 0.12.1                   \r\n",
      "Jinja2               2.10                     \r\n",
      "jsonschema           2.6.0                    \r\n",
      "jupyter              1.0.0                    \r\n",
      "jupyter-client       5.2.3                    \r\n",
      "jupyter-console      5.2.0                    \r\n",
      "jupyter-core         4.4.0                    \r\n",
      "MarkupSafe           1.0                      \r\n",
      "mistune              0.8.3                    \r\n",
      "more-itertools       4.2.0                    \r\n",
      "nbconvert            5.3.1                    \r\n",
      "nbformat             4.4.0                    \r\n",
      "notebook             5.6.0                    \r\n",
      "numpy                1.15.0                   \r\n",
      "pandas               0.24.0.dev0+448.g475e391 /Users/zebedeenicholls/Documents/AGCEC/Misc/pandas\r\n",
      "pandocfilters        1.4.2                    \r\n",
      "parso                0.3.1                    \r\n",
      "pexpect              4.6.0                    \r\n",
      "pickleshare          0.7.4                    \r\n",
      "Pint                 0.9.dev0                 /Users/zebedeenicholls/Documents/AGCEC/Misc/pint  \r\n",
      "pip                  18.0                     \r\n",
      "pluggy               0.7.1                    \r\n",
      "prometheus-client    0.3.0                    \r\n",
      "prompt-toolkit       1.0.15                   \r\n",
      "ptyprocess           0.6.0                    \r\n",
      "py                   1.5.4                    \r\n",
      "pyasn1               0.4.4                    \r\n",
      "pyasn1-modules       0.2.1                    \r\n",
      "pycparser            2.18                     \r\n",
      "Pygments             2.2.0                    \r\n",
      "PyHamcrest           1.9.0                    \r\n",
      "pyOpenSSL            18.0.0                   \r\n",
      "PySocks              1.6.8                    \r\n",
      "pytest               3.7.1                    \r\n",
      "python-dateutil      2.7.3                    \r\n",
      "pytz                 2018.5                   \r\n",
      "PyYAML               3.12                     \r\n",
      "pyzmq                17.1.2                   \r\n",
      "qtconsole            4.4.1                    \r\n",
      "requests             2.19.1                   \r\n",
      "Send2Trash           1.5.0                    \r\n",
      "service-identity     17.0.0                   \r\n",
      "setuptools           40.0.0                   \r\n",
      "simplegeneric        0.8.1                    \r\n",
      "six                  1.11.0                   \r\n",
      "terminado            0.8.1                    \r\n",
      "testpath             0.3.1                    \r\n",
      "tornado              5.1                      \r\n",
      "traitlets            4.3.2                    \r\n",
      "Twisted              18.7.0                   \r\n",
      "urllib3              1.23                     \r\n",
      "wcwidth              0.1.7                    \r\n",
      "webencodings         0.5.1                    \r\n",
      "wheel                0.31.1                   \r\n",
      "widgetsnbextension   3.4.0                    \r\n",
      "zope.interface       4.5.0                    \r\n"
     ]
    }
   ],
   "source": [
    "!pip list"
   ]
  },
  {
   "cell_type": "code",
   "execution_count": 2,
   "metadata": {},
   "outputs": [],
   "source": [
    "import pandas as pd \n",
    "import pint\n",
    "import numpy as np\n",
    "\n",
    "from pint.pandas_interface import PintArray"
   ]
  },
  {
   "cell_type": "code",
   "execution_count": 3,
   "metadata": {},
   "outputs": [],
   "source": [
    "ureg=pint.UnitRegistry()\n",
    "Q_=ureg.Quantity"
   ]
  },
  {
   "cell_type": "code",
   "execution_count": 4,
   "metadata": {},
   "outputs": [
    {
     "data": {
      "text/html": [
       "<div>\n",
       "<style scoped>\n",
       "    .dataframe tbody tr th:only-of-type {\n",
       "        vertical-align: middle;\n",
       "    }\n",
       "\n",
       "    .dataframe tbody tr th {\n",
       "        vertical-align: top;\n",
       "    }\n",
       "\n",
       "    .dataframe thead th {\n",
       "        text-align: right;\n",
       "    }\n",
       "</style>\n",
       "<table border=\"1\" class=\"dataframe\">\n",
       "  <thead>\n",
       "    <tr style=\"text-align: right;\">\n",
       "      <th></th>\n",
       "      <th>torque</th>\n",
       "      <th>angular_velocity</th>\n",
       "    </tr>\n",
       "  </thead>\n",
       "  <tbody>\n",
       "    <tr>\n",
       "      <th>0</th>\n",
       "      <td>1</td>\n",
       "      <td>1000</td>\n",
       "    </tr>\n",
       "    <tr>\n",
       "      <th>1</th>\n",
       "      <td>2</td>\n",
       "      <td>2000</td>\n",
       "    </tr>\n",
       "    <tr>\n",
       "      <th>2</th>\n",
       "      <td>2</td>\n",
       "      <td>2000</td>\n",
       "    </tr>\n",
       "    <tr>\n",
       "      <th>3</th>\n",
       "      <td>3</td>\n",
       "      <td>3000</td>\n",
       "    </tr>\n",
       "  </tbody>\n",
       "</table>\n",
       "</div>"
      ],
      "text/plain": [
       "  torque angular_velocity\n",
       "0      1             1000\n",
       "1      2             2000\n",
       "2      2             2000\n",
       "3      3             3000"
      ]
     },
     "execution_count": 4,
     "metadata": {},
     "output_type": "execute_result"
    }
   ],
   "source": [
    "df=pd.DataFrame({\"torque\":PintArray(Q_([1,2,2,3],\"lbf ft\")),\n",
    "              \"angular_velocity\":PintArray(Q_([1000,2000,2000,3000],\"rpm\"))})\n",
    "df"
   ]
  },
  {
   "cell_type": "code",
   "execution_count": 5,
   "metadata": {},
   "outputs": [
    {
     "name": "stderr",
     "output_type": "stream",
     "text": [
      "/Users/zebedeenicholls/Documents/AGCEC/Misc/pint/pint/quantity.py:1370: UnitStrippedWarning: The unit of the quantity is stripped.\n",
      "  warnings.warn(\"The unit of the quantity is stripped.\", UnitStrippedWarning)\n"
     ]
    },
    {
     "data": {
      "text/html": [
       "<div>\n",
       "<style scoped>\n",
       "    .dataframe tbody tr th:only-of-type {\n",
       "        vertical-align: middle;\n",
       "    }\n",
       "\n",
       "    .dataframe tbody tr th {\n",
       "        vertical-align: top;\n",
       "    }\n",
       "\n",
       "    .dataframe thead th {\n",
       "        text-align: right;\n",
       "    }\n",
       "</style>\n",
       "<table border=\"1\" class=\"dataframe\">\n",
       "  <thead>\n",
       "    <tr style=\"text-align: right;\">\n",
       "      <th></th>\n",
       "      <th>torque</th>\n",
       "      <th>angular_velocity</th>\n",
       "      <th>power</th>\n",
       "    </tr>\n",
       "  </thead>\n",
       "  <tbody>\n",
       "    <tr>\n",
       "      <th>0</th>\n",
       "      <td>1</td>\n",
       "      <td>1000</td>\n",
       "      <td>1000</td>\n",
       "    </tr>\n",
       "    <tr>\n",
       "      <th>1</th>\n",
       "      <td>2</td>\n",
       "      <td>2000</td>\n",
       "      <td>4000</td>\n",
       "    </tr>\n",
       "    <tr>\n",
       "      <th>2</th>\n",
       "      <td>2</td>\n",
       "      <td>2000</td>\n",
       "      <td>4000</td>\n",
       "    </tr>\n",
       "    <tr>\n",
       "      <th>3</th>\n",
       "      <td>3</td>\n",
       "      <td>3000</td>\n",
       "      <td>9000</td>\n",
       "    </tr>\n",
       "  </tbody>\n",
       "</table>\n",
       "</div>"
      ],
      "text/plain": [
       "  torque angular_velocity power\n",
       "0      1             1000  1000\n",
       "1      2             2000  4000\n",
       "2      2             2000  4000\n",
       "3      3             3000  9000"
      ]
     },
     "execution_count": 5,
     "metadata": {},
     "output_type": "execute_result"
    }
   ],
   "source": [
    "df['power'] = df['torque'] * df['angular_velocity']\n",
    "df  # not clear why warning is appearing given the units appear below"
   ]
  },
  {
   "cell_type": "code",
   "execution_count": 6,
   "metadata": {},
   "outputs": [
    {
     "data": {
      "text/html": [
       "\\[\\begin{pmatrix}1000 & 4000 & 4000 & 9000\\end{pmatrix} foot force_pound revolutions_per_minute\\]"
      ],
      "text/latex": [
       "$\\begin{pmatrix}1000 & 4000 & 4000 & 9000\\end{pmatrix}\\ \\mathrm{foot} \\cdot \\mathrm{force_pound} \\cdot \\mathrm{revolutions_per_minute}$"
      ],
      "text/plain": [
       "array([1000, 4000, 4000, 9000]) <Unit('foot * force_pound * revolutions_per_minute')>"
      ]
     },
     "execution_count": 6,
     "metadata": {},
     "output_type": "execute_result"
    }
   ],
   "source": [
    "df.power.values.data"
   ]
  },
  {
   "cell_type": "code",
   "execution_count": 9,
   "metadata": {},
   "outputs": [
    {
     "data": {
      "text/html": [
       "\\[\\begin{pmatrix}1 & 2 & 2 & 3\\end{pmatrix} foot force_pound\\]"
      ],
      "text/latex": [
       "$\\begin{pmatrix}1 & 2 & 2 & 3\\end{pmatrix}\\ \\mathrm{foot} \\cdot \\mathrm{force_pound}$"
      ],
      "text/plain": [
       "array([1, 2, 2, 3]) <Unit('foot * force_pound')>"
      ]
     },
     "execution_count": 9,
     "metadata": {},
     "output_type": "execute_result"
    }
   ],
   "source": [
    "df.torque.values.data"
   ]
  },
  {
   "cell_type": "code",
   "execution_count": 10,
   "metadata": {},
   "outputs": [
    {
     "data": {
      "text/html": [
       "\\[\\begin{pmatrix}1000 & 2000 & 2000 & 3000\\end{pmatrix} revolutions_per_minute\\]"
      ],
      "text/latex": [
       "$\\begin{pmatrix}1000 & 2000 & 2000 & 3000\\end{pmatrix}\\ \\mathrm{revolutions_per_minute}$"
      ],
      "text/plain": [
       "array([1000, 2000, 2000, 3000]) <Unit('revolutions_per_minute')>"
      ]
     },
     "execution_count": 10,
     "metadata": {},
     "output_type": "execute_result"
    }
   ],
   "source": [
    "df.angular_velocity.values.data"
   ]
  },
  {
   "cell_type": "code",
   "execution_count": 11,
   "metadata": {},
   "outputs": [
    {
     "data": {
      "text/html": [
       "\\[\\begin{pmatrix}0.14198092353610375 & 0.567923694144415 & 0.567923694144415 & 1.2778283118249338\\end{pmatrix} kilowatt\\]"
      ],
      "text/latex": [
       "$\\begin{pmatrix}0.14198092353610375 & 0.567923694144415 & 0.567923694144415 & 1.2778283118249338\\end{pmatrix}\\ \\mathrm{kilowatt}$"
      ],
      "text/plain": [
       "array([0.14198092, 0.56792369, 0.56792369, 1.27782831]) <Unit('kilowatt')>"
      ]
     },
     "execution_count": 11,
     "metadata": {},
     "output_type": "execute_result"
    }
   ],
   "source": [
    "df.power.values.data.to(\"kW\")"
   ]
  },
  {
   "cell_type": "markdown",
   "metadata": {},
   "source": [
    "That's great, but looks like effort compared to reading from files. DataFrame accessors are provided to make it easy to get to PintArrays. Let's start by reading a file which has units as a level in the column multiindex:"
   ]
  },
  {
   "cell_type": "code",
   "execution_count": 15,
   "metadata": {},
   "outputs": [
    {
     "data": {
      "text/html": [
       "<div>\n",
       "<style scoped>\n",
       "    .dataframe tbody tr th:only-of-type {\n",
       "        vertical-align: middle;\n",
       "    }\n",
       "\n",
       "    .dataframe tbody tr th {\n",
       "        vertical-align: top;\n",
       "    }\n",
       "\n",
       "    .dataframe thead tr th {\n",
       "        text-align: left;\n",
       "    }\n",
       "</style>\n",
       "<table border=\"1\" class=\"dataframe\">\n",
       "  <thead>\n",
       "    <tr>\n",
       "      <th></th>\n",
       "      <th>speed</th>\n",
       "      <th>mech power</th>\n",
       "      <th>torque</th>\n",
       "      <th>rail pressure</th>\n",
       "      <th>fuel flow rate</th>\n",
       "      <th>fluid power</th>\n",
       "    </tr>\n",
       "    <tr>\n",
       "      <th></th>\n",
       "      <th>rpm</th>\n",
       "      <th>kW</th>\n",
       "      <th>N m</th>\n",
       "      <th>bar</th>\n",
       "      <th>l/min</th>\n",
       "      <th>kW</th>\n",
       "    </tr>\n",
       "  </thead>\n",
       "  <tbody>\n",
       "    <tr>\n",
       "      <th>0</th>\n",
       "      <td>1000</td>\n",
       "      <td>NaN</td>\n",
       "      <td>10</td>\n",
       "      <td>1000</td>\n",
       "      <td>10</td>\n",
       "      <td>NaN</td>\n",
       "    </tr>\n",
       "    <tr>\n",
       "      <th>1</th>\n",
       "      <td>1100</td>\n",
       "      <td>NaN</td>\n",
       "      <td>10</td>\n",
       "      <td>1000000000000</td>\n",
       "      <td>10</td>\n",
       "      <td>NaN</td>\n",
       "    </tr>\n",
       "    <tr>\n",
       "      <th>2</th>\n",
       "      <td>1200</td>\n",
       "      <td>NaN</td>\n",
       "      <td>10</td>\n",
       "      <td>1000</td>\n",
       "      <td>10</td>\n",
       "      <td>NaN</td>\n",
       "    </tr>\n",
       "    <tr>\n",
       "      <th>3</th>\n",
       "      <td>1200</td>\n",
       "      <td>NaN</td>\n",
       "      <td>10</td>\n",
       "      <td>1000</td>\n",
       "      <td>10</td>\n",
       "      <td>NaN</td>\n",
       "    </tr>\n",
       "  </tbody>\n",
       "</table>\n",
       "</div>"
      ],
      "text/plain": [
       "  speed mech power torque  rail pressure fuel flow rate fluid power\n",
       "    rpm         kW    N m            bar          l/min          kW\n",
       "0  1000        NaN     10           1000             10         NaN\n",
       "1  1100        NaN     10  1000000000000             10         NaN\n",
       "2  1200        NaN     10           1000             10         NaN\n",
       "3  1200        NaN     10           1000             10         NaN"
      ]
     },
     "execution_count": 15,
     "metadata": {},
     "output_type": "execute_result"
    }
   ],
   "source": [
    "df=pd.read_csv(\"pint_test_data.csv\", header=[0,1])\n",
    "df"
   ]
  },
  {
   "cell_type": "markdown",
   "metadata": {},
   "source": [
    "Then use the DataFrame's pint accessor's quantify method to convert the columns from np arrays to PintArrays, with units from the bottom column level."
   ]
  },
  {
   "cell_type": "code",
   "execution_count": 16,
   "metadata": {},
   "outputs": [
    {
     "data": {
      "text/html": [
       "<div>\n",
       "<style scoped>\n",
       "    .dataframe tbody tr th:only-of-type {\n",
       "        vertical-align: middle;\n",
       "    }\n",
       "\n",
       "    .dataframe tbody tr th {\n",
       "        vertical-align: top;\n",
       "    }\n",
       "\n",
       "    .dataframe thead th {\n",
       "        text-align: right;\n",
       "    }\n",
       "</style>\n",
       "<table border=\"1\" class=\"dataframe\">\n",
       "  <thead>\n",
       "    <tr style=\"text-align: right;\">\n",
       "      <th></th>\n",
       "      <th>speed</th>\n",
       "      <th>mech power</th>\n",
       "      <th>torque</th>\n",
       "      <th>rail pressure</th>\n",
       "      <th>fuel flow rate</th>\n",
       "      <th>fluid power</th>\n",
       "    </tr>\n",
       "  </thead>\n",
       "  <tbody>\n",
       "    <tr>\n",
       "      <th>0</th>\n",
       "      <td>1000</td>\n",
       "      <td>NaN</td>\n",
       "      <td>10</td>\n",
       "      <td>1000</td>\n",
       "      <td>10</td>\n",
       "      <td>NaN</td>\n",
       "    </tr>\n",
       "    <tr>\n",
       "      <th>1</th>\n",
       "      <td>1100</td>\n",
       "      <td>NaN</td>\n",
       "      <td>10</td>\n",
       "      <td>1e+12</td>\n",
       "      <td>10</td>\n",
       "      <td>NaN</td>\n",
       "    </tr>\n",
       "    <tr>\n",
       "      <th>2</th>\n",
       "      <td>1200</td>\n",
       "      <td>NaN</td>\n",
       "      <td>10</td>\n",
       "      <td>1000</td>\n",
       "      <td>10</td>\n",
       "      <td>NaN</td>\n",
       "    </tr>\n",
       "    <tr>\n",
       "      <th>3</th>\n",
       "      <td>1200</td>\n",
       "      <td>NaN</td>\n",
       "      <td>10</td>\n",
       "      <td>1000</td>\n",
       "      <td>10</td>\n",
       "      <td>NaN</td>\n",
       "    </tr>\n",
       "  </tbody>\n",
       "</table>\n",
       "</div>"
      ],
      "text/plain": [
       "  speed mech power torque rail pressure fuel flow rate fluid power\n",
       "0  1000        NaN     10          1000             10         NaN\n",
       "1  1100        NaN     10         1e+12             10         NaN\n",
       "2  1200        NaN     10          1000             10         NaN\n",
       "3  1200        NaN     10          1000             10         NaN"
      ]
     },
     "execution_count": 16,
     "metadata": {},
     "output_type": "execute_result"
    }
   ],
   "source": [
    "df_ = df.pint.quantify(ureg, level=-1)\n",
    "df_"
   ]
  },
  {
   "cell_type": "markdown",
   "metadata": {},
   "source": [
    "Operations between PintArrays (the columns in the DataFrame) are unit aware."
   ]
  },
  {
   "cell_type": "code",
   "execution_count": 17,
   "metadata": {},
   "outputs": [
    {
     "name": "stderr",
     "output_type": "stream",
     "text": [
      "/Users/zebedeenicholls/Documents/AGCEC/Misc/pint/pint/quantity.py:1370: UnitStrippedWarning: The unit of the quantity is stripped.\n",
      "  warnings.warn(\"The unit of the quantity is stripped.\", UnitStrippedWarning)\n"
     ]
    },
    {
     "data": {
      "text/html": [
       "<div>\n",
       "<style scoped>\n",
       "    .dataframe tbody tr th:only-of-type {\n",
       "        vertical-align: middle;\n",
       "    }\n",
       "\n",
       "    .dataframe tbody tr th {\n",
       "        vertical-align: top;\n",
       "    }\n",
       "\n",
       "    .dataframe thead th {\n",
       "        text-align: right;\n",
       "    }\n",
       "</style>\n",
       "<table border=\"1\" class=\"dataframe\">\n",
       "  <thead>\n",
       "    <tr style=\"text-align: right;\">\n",
       "      <th></th>\n",
       "      <th>speed</th>\n",
       "      <th>mech power</th>\n",
       "      <th>torque</th>\n",
       "      <th>rail pressure</th>\n",
       "      <th>fuel flow rate</th>\n",
       "      <th>fluid power</th>\n",
       "    </tr>\n",
       "  </thead>\n",
       "  <tbody>\n",
       "    <tr>\n",
       "      <th>0</th>\n",
       "      <td>1000</td>\n",
       "      <td>10000</td>\n",
       "      <td>10</td>\n",
       "      <td>1000</td>\n",
       "      <td>10</td>\n",
       "      <td>10000</td>\n",
       "    </tr>\n",
       "    <tr>\n",
       "      <th>1</th>\n",
       "      <td>1100</td>\n",
       "      <td>11000</td>\n",
       "      <td>10</td>\n",
       "      <td>1e+12</td>\n",
       "      <td>10</td>\n",
       "      <td>1e+13</td>\n",
       "    </tr>\n",
       "    <tr>\n",
       "      <th>2</th>\n",
       "      <td>1200</td>\n",
       "      <td>12000</td>\n",
       "      <td>10</td>\n",
       "      <td>1000</td>\n",
       "      <td>10</td>\n",
       "      <td>10000</td>\n",
       "    </tr>\n",
       "    <tr>\n",
       "      <th>3</th>\n",
       "      <td>1200</td>\n",
       "      <td>12000</td>\n",
       "      <td>10</td>\n",
       "      <td>1000</td>\n",
       "      <td>10</td>\n",
       "      <td>10000</td>\n",
       "    </tr>\n",
       "  </tbody>\n",
       "</table>\n",
       "</div>"
      ],
      "text/plain": [
       "  speed mech power torque rail pressure fuel flow rate fluid power\n",
       "0  1000      10000     10          1000             10       10000\n",
       "1  1100      11000     10         1e+12             10       1e+13\n",
       "2  1200      12000     10          1000             10       10000\n",
       "3  1200      12000     10          1000             10       10000"
      ]
     },
     "execution_count": 17,
     "metadata": {},
     "output_type": "execute_result"
    }
   ],
   "source": [
    "df_['mech power'] = df_.speed*df_.torque\n",
    "df_['fluid power'] = df_['fuel flow rate'] * df_['rail pressure']\n",
    "df_  # again no idea why warning appears given everything seems to work..."
   ]
  },
  {
   "cell_type": "markdown",
   "metadata": {},
   "source": [
    "We can verify the units of the columns have been multplied as expected"
   ]
  },
  {
   "cell_type": "code",
   "execution_count": 18,
   "metadata": {},
   "outputs": [
    {
     "data": {
      "text/html": [
       "<div>\n",
       "<style scoped>\n",
       "    .dataframe tbody tr th:only-of-type {\n",
       "        vertical-align: middle;\n",
       "    }\n",
       "\n",
       "    .dataframe tbody tr th {\n",
       "        vertical-align: top;\n",
       "    }\n",
       "\n",
       "    .dataframe thead tr th {\n",
       "        text-align: left;\n",
       "    }\n",
       "</style>\n",
       "<table border=\"1\" class=\"dataframe\">\n",
       "  <thead>\n",
       "    <tr>\n",
       "      <th></th>\n",
       "      <th>speed</th>\n",
       "      <th>mech power</th>\n",
       "      <th>torque</th>\n",
       "      <th>rail pressure</th>\n",
       "      <th>fuel flow rate</th>\n",
       "      <th>fluid power</th>\n",
       "    </tr>\n",
       "    <tr>\n",
       "      <th></th>\n",
       "      <th>revolutions_per_minute</th>\n",
       "      <th>meter * newton * revolutions_per_minute</th>\n",
       "      <th>meter * newton</th>\n",
       "      <th>bar</th>\n",
       "      <th>liter / minute</th>\n",
       "      <th>bar * liter / minute</th>\n",
       "    </tr>\n",
       "  </thead>\n",
       "  <tbody>\n",
       "    <tr>\n",
       "      <th>0</th>\n",
       "      <td>1000.0</td>\n",
       "      <td>10000.0</td>\n",
       "      <td>10.0</td>\n",
       "      <td>1.000000e+03</td>\n",
       "      <td>10.0</td>\n",
       "      <td>1.000000e+04</td>\n",
       "    </tr>\n",
       "    <tr>\n",
       "      <th>1</th>\n",
       "      <td>1100.0</td>\n",
       "      <td>11000.0</td>\n",
       "      <td>10.0</td>\n",
       "      <td>1.000000e+12</td>\n",
       "      <td>10.0</td>\n",
       "      <td>1.000000e+13</td>\n",
       "    </tr>\n",
       "    <tr>\n",
       "      <th>2</th>\n",
       "      <td>1200.0</td>\n",
       "      <td>12000.0</td>\n",
       "      <td>10.0</td>\n",
       "      <td>1.000000e+03</td>\n",
       "      <td>10.0</td>\n",
       "      <td>1.000000e+04</td>\n",
       "    </tr>\n",
       "    <tr>\n",
       "      <th>3</th>\n",
       "      <td>1200.0</td>\n",
       "      <td>12000.0</td>\n",
       "      <td>10.0</td>\n",
       "      <td>1.000000e+03</td>\n",
       "      <td>10.0</td>\n",
       "      <td>1.000000e+04</td>\n",
       "    </tr>\n",
       "  </tbody>\n",
       "</table>\n",
       "</div>"
      ],
      "text/plain": [
       "                   speed                              mech power  \\\n",
       "  revolutions_per_minute meter * newton * revolutions_per_minute   \n",
       "0                 1000.0                                 10000.0   \n",
       "1                 1100.0                                 11000.0   \n",
       "2                 1200.0                                 12000.0   \n",
       "3                 1200.0                                 12000.0   \n",
       "\n",
       "          torque rail pressure fuel flow rate          fluid power  \n",
       "  meter * newton           bar liter / minute bar * liter / minute  \n",
       "0           10.0  1.000000e+03           10.0         1.000000e+04  \n",
       "1           10.0  1.000000e+12           10.0         1.000000e+13  \n",
       "2           10.0  1.000000e+03           10.0         1.000000e+04  \n",
       "3           10.0  1.000000e+03           10.0         1.000000e+04  "
      ]
     },
     "execution_count": 18,
     "metadata": {},
     "output_type": "execute_result"
    }
   ],
   "source": [
    "df_.pint.dequantify()"
   ]
  },
  {
   "cell_type": "markdown",
   "metadata": {},
   "source": [
    "We can change units to something more typical"
   ]
  },
  {
   "cell_type": "code",
   "execution_count": 19,
   "metadata": {},
   "outputs": [
    {
     "data": {
      "text/html": [
       "<div>\n",
       "<style scoped>\n",
       "    .dataframe tbody tr th:only-of-type {\n",
       "        vertical-align: middle;\n",
       "    }\n",
       "\n",
       "    .dataframe tbody tr th {\n",
       "        vertical-align: top;\n",
       "    }\n",
       "\n",
       "    .dataframe thead tr th {\n",
       "        text-align: left;\n",
       "    }\n",
       "</style>\n",
       "<table border=\"1\" class=\"dataframe\">\n",
       "  <thead>\n",
       "    <tr>\n",
       "      <th></th>\n",
       "      <th>speed</th>\n",
       "      <th>mech power</th>\n",
       "      <th>torque</th>\n",
       "      <th>rail pressure</th>\n",
       "      <th>fuel flow rate</th>\n",
       "      <th>fluid power</th>\n",
       "    </tr>\n",
       "    <tr>\n",
       "      <th></th>\n",
       "      <th>revolutions_per_minute</th>\n",
       "      <th>kilowatt</th>\n",
       "      <th>meter * newton</th>\n",
       "      <th>bar</th>\n",
       "      <th>liter / minute</th>\n",
       "      <th>kilowatt</th>\n",
       "    </tr>\n",
       "  </thead>\n",
       "  <tbody>\n",
       "    <tr>\n",
       "      <th>0</th>\n",
       "      <td>1000.0</td>\n",
       "      <td>1.047198</td>\n",
       "      <td>10.0</td>\n",
       "      <td>1.000000e+03</td>\n",
       "      <td>10.0</td>\n",
       "      <td>1.666667e+01</td>\n",
       "    </tr>\n",
       "    <tr>\n",
       "      <th>1</th>\n",
       "      <td>1100.0</td>\n",
       "      <td>1.151917</td>\n",
       "      <td>10.0</td>\n",
       "      <td>1.000000e+12</td>\n",
       "      <td>10.0</td>\n",
       "      <td>1.666667e+10</td>\n",
       "    </tr>\n",
       "    <tr>\n",
       "      <th>2</th>\n",
       "      <td>1200.0</td>\n",
       "      <td>1.256637</td>\n",
       "      <td>10.0</td>\n",
       "      <td>1.000000e+03</td>\n",
       "      <td>10.0</td>\n",
       "      <td>1.666667e+01</td>\n",
       "    </tr>\n",
       "    <tr>\n",
       "      <th>3</th>\n",
       "      <td>1200.0</td>\n",
       "      <td>1.256637</td>\n",
       "      <td>10.0</td>\n",
       "      <td>1.000000e+03</td>\n",
       "      <td>10.0</td>\n",
       "      <td>1.666667e+01</td>\n",
       "    </tr>\n",
       "  </tbody>\n",
       "</table>\n",
       "</div>"
      ],
      "text/plain": [
       "                   speed mech power         torque rail pressure  \\\n",
       "  revolutions_per_minute   kilowatt meter * newton           bar   \n",
       "0                 1000.0   1.047198           10.0  1.000000e+03   \n",
       "1                 1100.0   1.151917           10.0  1.000000e+12   \n",
       "2                 1200.0   1.256637           10.0  1.000000e+03   \n",
       "3                 1200.0   1.256637           10.0  1.000000e+03   \n",
       "\n",
       "  fuel flow rate   fluid power  \n",
       "  liter / minute      kilowatt  \n",
       "0           10.0  1.666667e+01  \n",
       "1           10.0  1.666667e+10  \n",
       "2           10.0  1.666667e+01  \n",
       "3           10.0  1.666667e+01  "
      ]
     },
     "execution_count": 19,
     "metadata": {},
     "output_type": "execute_result"
    }
   ],
   "source": [
    "df_['fluid power'] = df_['fluid power'].pint.to(\"kW\")\n",
    "df_['mech power'] = df_['mech power'].pint.to(\"kW\")\n",
    "df_.pint.dequantify()"
   ]
  },
  {
   "cell_type": "markdown",
   "metadata": {},
   "source": [
    "Or convert all columns to base units"
   ]
  },
  {
   "cell_type": "code",
   "execution_count": 20,
   "metadata": {},
   "outputs": [
    {
     "data": {
      "text/html": [
       "<div>\n",
       "<style scoped>\n",
       "    .dataframe tbody tr th:only-of-type {\n",
       "        vertical-align: middle;\n",
       "    }\n",
       "\n",
       "    .dataframe tbody tr th {\n",
       "        vertical-align: top;\n",
       "    }\n",
       "\n",
       "    .dataframe thead tr th {\n",
       "        text-align: left;\n",
       "    }\n",
       "</style>\n",
       "<table border=\"1\" class=\"dataframe\">\n",
       "  <thead>\n",
       "    <tr>\n",
       "      <th></th>\n",
       "      <th>speed</th>\n",
       "      <th>mech power</th>\n",
       "      <th>torque</th>\n",
       "      <th>rail pressure</th>\n",
       "      <th>fuel flow rate</th>\n",
       "      <th>fluid power</th>\n",
       "    </tr>\n",
       "    <tr>\n",
       "      <th></th>\n",
       "      <th>radian / second</th>\n",
       "      <th>kilogram * meter ** 2 / second ** 3</th>\n",
       "      <th>kilogram * meter ** 2 / second ** 2</th>\n",
       "      <th>kilogram / meter / second ** 2</th>\n",
       "      <th>meter ** 3 / second</th>\n",
       "      <th>kilogram * meter ** 2 / second ** 3</th>\n",
       "    </tr>\n",
       "  </thead>\n",
       "  <tbody>\n",
       "    <tr>\n",
       "      <th>0</th>\n",
       "      <td>104.719755</td>\n",
       "      <td>1047.197551</td>\n",
       "      <td>10.0</td>\n",
       "      <td>1.000000e+08</td>\n",
       "      <td>0.000167</td>\n",
       "      <td>1.666667e+04</td>\n",
       "    </tr>\n",
       "    <tr>\n",
       "      <th>1</th>\n",
       "      <td>115.191731</td>\n",
       "      <td>1151.917306</td>\n",
       "      <td>10.0</td>\n",
       "      <td>1.000000e+17</td>\n",
       "      <td>0.000167</td>\n",
       "      <td>1.666667e+13</td>\n",
       "    </tr>\n",
       "    <tr>\n",
       "      <th>2</th>\n",
       "      <td>125.663706</td>\n",
       "      <td>1256.637061</td>\n",
       "      <td>10.0</td>\n",
       "      <td>1.000000e+08</td>\n",
       "      <td>0.000167</td>\n",
       "      <td>1.666667e+04</td>\n",
       "    </tr>\n",
       "    <tr>\n",
       "      <th>3</th>\n",
       "      <td>125.663706</td>\n",
       "      <td>1256.637061</td>\n",
       "      <td>10.0</td>\n",
       "      <td>1.000000e+08</td>\n",
       "      <td>0.000167</td>\n",
       "      <td>1.666667e+04</td>\n",
       "    </tr>\n",
       "  </tbody>\n",
       "</table>\n",
       "</div>"
      ],
      "text/plain": [
       "            speed                          mech power  \\\n",
       "  radian / second kilogram * meter ** 2 / second ** 3   \n",
       "0      104.719755                         1047.197551   \n",
       "1      115.191731                         1151.917306   \n",
       "2      125.663706                         1256.637061   \n",
       "3      125.663706                         1256.637061   \n",
       "\n",
       "                               torque                  rail pressure  \\\n",
       "  kilogram * meter ** 2 / second ** 2 kilogram / meter / second ** 2   \n",
       "0                                10.0                   1.000000e+08   \n",
       "1                                10.0                   1.000000e+17   \n",
       "2                                10.0                   1.000000e+08   \n",
       "3                                10.0                   1.000000e+08   \n",
       "\n",
       "       fuel flow rate                         fluid power  \n",
       "  meter ** 3 / second kilogram * meter ** 2 / second ** 3  \n",
       "0            0.000167                        1.666667e+04  \n",
       "1            0.000167                        1.666667e+13  \n",
       "2            0.000167                        1.666667e+04  \n",
       "3            0.000167                        1.666667e+04  "
      ]
     },
     "execution_count": 20,
     "metadata": {},
     "output_type": "execute_result"
    }
   ],
   "source": [
    "df_.pint.to_base_units().pint.dequantify()"
   ]
  },
  {
   "cell_type": "markdown",
   "metadata": {},
   "source": [
    "## Comments\n",
    "\n",
    "What follows is a short discussion about Pint's `PintArray` Object.\n",
    "\n",
    "It is first useful to distinguish between three different things:\n",
    "\n",
    "1. A scalar value"
   ]
  },
  {
   "cell_type": "code",
   "execution_count": 29,
   "metadata": {},
   "outputs": [
    {
     "data": {
      "text/html": [
       "123 meter"
      ],
      "text/latex": [
       "$123\\ \\mathrm{meter}$"
      ],
      "text/plain": [
       "123 <Unit('meter')>"
      ]
     },
     "execution_count": 29,
     "metadata": {},
     "output_type": "execute_result"
    }
   ],
   "source": [
    "Q_(123,\"m\")"
   ]
  },
  {
   "cell_type": "markdown",
   "metadata": {},
   "source": [
    "2. A 1d array or list"
   ]
  },
  {
   "cell_type": "code",
   "execution_count": 30,
   "metadata": {},
   "outputs": [
    {
     "data": {
      "text/html": [
       "\\[\\begin{pmatrix}1 & 2 & 3\\end{pmatrix} meter\\]"
      ],
      "text/latex": [
       "$\\begin{pmatrix}1 & 2 & 3\\end{pmatrix}\\ \\mathrm{meter}$"
      ],
      "text/plain": [
       "array([1, 2, 3]) <Unit('meter')>"
      ]
     },
     "execution_count": 30,
     "metadata": {},
     "output_type": "execute_result"
    }
   ],
   "source": [
    "Q_([1, 2, 3], \"m\")"
   ]
  },
  {
   "cell_type": "markdown",
   "metadata": {},
   "source": [
    "3. A 2d+ array or list"
   ]
  },
  {
   "cell_type": "code",
   "execution_count": 31,
   "metadata": {},
   "outputs": [
    {
     "data": {
      "text/html": [
       "\\[\\begin{pmatrix}1 & 2\\\\ \n",
       "3 & 4\\end{pmatrix} meter\\]"
      ],
      "text/latex": [
       "$\\begin{pmatrix}1 & 2\\\\ \n",
       "3 & 4\\end{pmatrix}\\ \\mathrm{meter}$"
      ],
      "text/plain": [
       "array([[1, 2],\n",
       "       [3, 4]]) <Unit('meter')>"
      ]
     },
     "execution_count": 31,
     "metadata": {},
     "output_type": "execute_result"
    }
   ],
   "source": [
    "Q_([[1, 2], [3, 4]], \"m\")"
   ]
  },
  {
   "cell_type": "markdown",
   "metadata": {},
   "source": [
    "The first, a single scalar value is not intended to be stored in the PintArray as it's not an array, and should raise an error (TODO). The scalar Quantity is the scalar form of the PintArray, and is returned when performing operations that use `get_item`, eg indexing. A PintArray can be created from a list of scalar Quantitys using `PintArray._from_sequence`.\n",
    "\n",
    "The second, a 1d array or list, is intended to be stored in the PintArray, and is stored in the PintArray.data attribute.\n",
    "\n",
    "The third, 2d+ arrays or lists, are beyond the capabilities of ExtensionArrays which are limited to 1d arrays, so cannot be stored in the array, and should raise an error (TODO).\n",
    "\n",
    "Most operations on the PintArray act on the Quantity stored in `PintArray.data`, so will behave similiarly to operations on a Quantity, with some caveats:\n",
    "\n",
    "1. An operation that would return a 1d Quantity will return a PintArray containing the Quantity. This allows pandas to assign the result to a Series.\n",
    "2. Arithemetic and comparative operations are limited to scalars and sequences of the same length as the stored Quantity. This ensures results are the same length as the stored Quantity, so can be added to the same DataFrame."
   ]
  }
 ],
 "metadata": {
  "kernelspec": {
   "display_name": "Python 3",
   "language": "python",
   "name": "python3"
  },
  "language_info": {
   "codemirror_mode": {
    "name": "ipython",
    "version": 3
   },
   "file_extension": ".py",
   "mimetype": "text/x-python",
   "name": "python",
   "nbconvert_exporter": "python",
   "pygments_lexer": "ipython3",
   "version": "3.6.6"
  }
 },
 "nbformat": 4,
 "nbformat_minor": 2
}
