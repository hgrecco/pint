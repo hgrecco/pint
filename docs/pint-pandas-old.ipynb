{
 "cells": [
  {
   "cell_type": "markdown",
   "metadata": {},
   "source": [
    "# Pandas support\n",
    "\n",
    "<div class=\"alert alert-warning\">\n",
    "\n",
    "**Warning:** pandas support is currently experimental, don't expect everything to work.\n",
    "\n",
    "</div>\n",
    "\n",
    "It is convenient to use the Pandas package when dealing with numerical data, so Pint provides PintArray. A PintArray is a Pandas Extension Array, which allows Pandas to recognise the Quantity and store it in Pandas DataFrames and Series."
   ]
  },
  {
   "cell_type": "markdown",
   "metadata": {},
   "source": [
    "## Installation\n",
    "\n",
    "\n",
    "Pandas support is provided by the `pint-pandas` package. To install it use either:\n",
    "```\n",
    "python -m pip install pint-pandas\n",
    "```\n",
    "Or:\n",
    "```\n",
    "conda install -c conda-forge pint-pandas\n",
    "```"
   ]
  },
  {
   "cell_type": "markdown",
   "metadata": {},
   "source": [
    "## Basic example"
   ]
  },
  {
   "cell_type": "markdown",
   "metadata": {},
   "source": [
    "This example will show the simplist way to use pandas with pint and the underlying objects. It's slightly fiddly as you are not reading from a file. A more normal use case is given in Reading a csv.\n",
    "\n",
    "First some imports (you don't need to import `pint_pandas` for this to work)"
   ]
  },
  {
   "cell_type": "code",
   "execution_count": 1,
   "metadata": {},
   "outputs": [],
   "source": [
    "import pandas as pd \n",
    "import pint\n",
    "import pint_pandas"
   ]
  },
  {
   "cell_type": "markdown",
   "metadata": {},
   "source": [
    "Next, we create a DataFrame with PintArrays as columns."
   ]
  },
  {
   "cell_type": "code",
   "execution_count": 2,
   "metadata": {},
   "outputs": [
    {
     "data": {
      "text/html": [
       "<div>\n",
       "<style scoped>\n",
       "    .dataframe tbody tr th:only-of-type {\n",
       "        vertical-align: middle;\n",
       "    }\n",
       "\n",
       "    .dataframe tbody tr th {\n",
       "        vertical-align: top;\n",
       "    }\n",
       "\n",
       "    .dataframe thead th {\n",
       "        text-align: right;\n",
       "    }\n",
       "</style>\n",
       "<table border=\"1\" class=\"dataframe\">\n",
       "  <thead>\n",
       "    <tr style=\"text-align: right;\">\n",
       "      <th></th>\n",
       "      <th>torque</th>\n",
       "      <th>angular_velocity</th>\n",
       "    </tr>\n",
       "  </thead>\n",
       "  <tbody>\n",
       "    <tr>\n",
       "      <th>0</th>\n",
       "      <td>1</td>\n",
       "      <td>1</td>\n",
       "    </tr>\n",
       "    <tr>\n",
       "      <th>1</th>\n",
       "      <td>2</td>\n",
       "      <td>2</td>\n",
       "    </tr>\n",
       "    <tr>\n",
       "      <th>2</th>\n",
       "      <td>2</td>\n",
       "      <td>2</td>\n",
       "    </tr>\n",
       "    <tr>\n",
       "      <th>3</th>\n",
       "      <td>3</td>\n",
       "      <td>3</td>\n",
       "    </tr>\n",
       "  </tbody>\n",
       "</table>\n",
       "</div>"
      ],
      "text/plain": [
       "  torque angular_velocity\n",
       "0      1                1\n",
       "1      2                2\n",
       "2      2                2\n",
       "3      3                3"
      ]
     },
     "execution_count": 2,
     "metadata": {},
     "output_type": "execute_result"
    }
   ],
   "source": [
    "df = pd.DataFrame({\n",
    "    \"torque\": pd.Series([1, 2, 2, 3], dtype=\"pint[lbf ft]\"),\n",
    "    \"angular_velocity\": pd.Series([1, 2, 2, 3], dtype=\"pint[rpm]\"),\n",
    "})\n",
    "df"
   ]
  },
  {
   "cell_type": "markdown",
   "metadata": {},
   "source": [
    "Operations with columns are units aware so behave as we would intuitively expect."
   ]
  },
  {
   "cell_type": "code",
   "execution_count": 3,
   "metadata": {},
   "outputs": [
    {
     "data": {
      "text/html": [
       "<div>\n",
       "<style scoped>\n",
       "    .dataframe tbody tr th:only-of-type {\n",
       "        vertical-align: middle;\n",
       "    }\n",
       "\n",
       "    .dataframe tbody tr th {\n",
       "        vertical-align: top;\n",
       "    }\n",
       "\n",
       "    .dataframe thead th {\n",
       "        text-align: right;\n",
       "    }\n",
       "</style>\n",
       "<table border=\"1\" class=\"dataframe\">\n",
       "  <thead>\n",
       "    <tr style=\"text-align: right;\">\n",
       "      <th></th>\n",
       "      <th>torque</th>\n",
       "      <th>angular_velocity</th>\n",
       "      <th>power</th>\n",
       "    </tr>\n",
       "  </thead>\n",
       "  <tbody>\n",
       "    <tr>\n",
       "      <th>0</th>\n",
       "      <td>1</td>\n",
       "      <td>1</td>\n",
       "      <td>1</td>\n",
       "    </tr>\n",
       "    <tr>\n",
       "      <th>1</th>\n",
       "      <td>2</td>\n",
       "      <td>2</td>\n",
       "      <td>4</td>\n",
       "    </tr>\n",
       "    <tr>\n",
       "      <th>2</th>\n",
       "      <td>2</td>\n",
       "      <td>2</td>\n",
       "      <td>4</td>\n",
       "    </tr>\n",
       "    <tr>\n",
       "      <th>3</th>\n",
       "      <td>3</td>\n",
       "      <td>3</td>\n",
       "      <td>9</td>\n",
       "    </tr>\n",
       "  </tbody>\n",
       "</table>\n",
       "</div>"
      ],
      "text/plain": [
       "  torque angular_velocity power\n",
       "0      1                1     1\n",
       "1      2                2     4\n",
       "2      2                2     4\n",
       "3      3                3     9"
      ]
     },
     "execution_count": 3,
     "metadata": {},
     "output_type": "execute_result"
    }
   ],
   "source": [
    "df['power'] = df['torque'] * df['angular_velocity']\n",
    "df"
   ]
  },
  {
   "cell_type": "markdown",
   "metadata": {},
   "source": [
    "We can see the columns' units in the dtypes attribute"
   ]
  },
  {
   "cell_type": "code",
   "execution_count": 4,
   "metadata": {},
   "outputs": [
    {
     "data": {
      "text/plain": [
       "torque                                       pint[foot * force_pound]\n",
       "angular_velocity                         pint[revolutions_per_minute]\n",
       "power               pint[foot * force_pound * revolutions_per_minute]\n",
       "dtype: object"
      ]
     },
     "execution_count": 4,
     "metadata": {},
     "output_type": "execute_result"
    }
   ],
   "source": [
    "df.dtypes"
   ]
  },
  {
   "cell_type": "markdown",
   "metadata": {},
   "source": [
    "Each column can be accessed as a Pandas Series"
   ]
  },
  {
   "cell_type": "code",
   "execution_count": 5,
   "metadata": {},
   "outputs": [
    {
     "data": {
      "text/plain": [
       "0    1\n",
       "1    4\n",
       "2    4\n",
       "3    9\n",
       "Name: power, dtype: pint[foot * force_pound * revolutions_per_minute]"
      ]
     },
     "execution_count": 5,
     "metadata": {},
     "output_type": "execute_result"
    }
   ],
   "source": [
    "df.power"
   ]
  },
  {
   "cell_type": "markdown",
   "metadata": {},
   "source": [
    "Which contains a PintArray"
   ]
  },
  {
   "cell_type": "code",
   "execution_count": 6,
   "metadata": {},
   "outputs": [
    {
     "data": {
      "text/plain": [
       "<PintArray>\n",
       "[1, 4, 4, 9]\n",
       "Length: 4, dtype: pint[foot * force_pound * revolutions_per_minute]"
      ]
     },
     "execution_count": 6,
     "metadata": {},
     "output_type": "execute_result"
    }
   ],
   "source": [
    "df.power.values"
   ]
  },
  {
   "cell_type": "markdown",
   "metadata": {},
   "source": [
    "The PintArray contains a Quantity"
   ]
  },
  {
   "cell_type": "code",
   "execution_count": 7,
   "metadata": {},
   "outputs": [
    {
     "data": {
      "text/html": [
       "<table><tbody><tr><th>Magnitude</th><td style='text-align:left;'><pre>[1 4 4 9]</pre></td></tr><tr><th>Units</th><td style='text-align:left;'>foot force_pound revolutions_per_minute</td></tr></tbody></table>"
      ],
      "text/latex": [
       "$\\begin{pmatrix}1 & 4 & 4 & 9\\end{pmatrix}\\ \\mathrm{foot} \\cdot \\mathrm{force\\_pound} \\cdot \\mathrm{revolutions\\_per\\_minute}$"
      ],
      "text/plain": [
       "array([1, 4, 4, 9]) <Unit('foot * force_pound * revolutions_per_minute')>"
      ]
     },
     "execution_count": 7,
     "metadata": {},
     "output_type": "execute_result"
    }
   ],
   "source": [
    "df.power.values.quantity"
   ]
  },
  {
   "cell_type": "markdown",
   "metadata": {},
   "source": [
    "Pandas Series accessors are provided for most Quantity properties and methods, which will convert the result to a Series where possible."
   ]
  },
  {
   "cell_type": "code",
   "execution_count": 8,
   "metadata": {},
   "outputs": [
    {
     "data": {
      "text/html": [
       "foot force_pound revolutions_per_minute"
      ],
      "text/latex": [
       "$\\mathrm{foot} \\cdot \\mathrm{force\\_pound} \\cdot \\mathrm{revolutions\\_per\\_minute}$"
      ],
      "text/plain": [
       "<Unit('foot * force_pound * revolutions_per_minute')>"
      ]
     },
     "execution_count": 8,
     "metadata": {},
     "output_type": "execute_result"
    }
   ],
   "source": [
    "df.power.pint.units"
   ]
  },
  {
   "cell_type": "code",
   "execution_count": 9,
   "metadata": {},
   "outputs": [
    {
     "data": {
      "text/plain": [
       "<PintArray>\n",
       "[0.00014198092353610379,  0.0005679236941444151,  0.0005679236941444151,\n",
       "   0.001277828311824934]\n",
       "Length: 4, dtype: pint[kilowatt]"
      ]
     },
     "execution_count": 9,
     "metadata": {},
     "output_type": "execute_result"
    }
   ],
   "source": [
    "df.power.pint.to(\"kW\").values"
   ]
  },
  {
   "cell_type": "markdown",
   "metadata": {},
   "source": [
    "## Reading from csv\n",
    "\n",
    "Reading from files is the far more standard way to use pandas. To facilitate this, DataFrame accessors are provided to make it easy to get to PintArrays. "
   ]
  },
  {
   "cell_type": "code",
   "execution_count": 10,
   "metadata": {},
   "outputs": [],
   "source": [
    "import pandas as pd \n",
    "import pint\n",
    "import pint_pandas\n",
    "import io"
   ]
  },
  {
   "cell_type": "markdown",
   "metadata": {},
   "source": [
    "Here's the contents of the csv file."
   ]
  },
  {
   "cell_type": "code",
   "execution_count": 11,
   "metadata": {},
   "outputs": [],
   "source": [
    "test_data = '''ShaftSpeedIndex,rpm,1200,1200,1200,1600,1600,1600,2300,2300,2300\n",
    "pump,,A,B,C,A,B,C,A,B,C\n",
    "ShaftSpeed,rpm,1200,1200,1200,1600,1600,1600,2300,2300,2300\n",
    "FlowRate,m^3 h^-1,8.72,9.28,9.31,11.61,12.78,13.51,18.32,17.90,19.23\n",
    "DifferentialPressure,kPa,162.03,144.16,136.47,286.86,241.41,204.21,533.17,526.74,440.76\n",
    "ShaftPower,kW,1.32,1.23,1.18,3.09,2.78,2.50,8.59,8.51,7.61\n",
    "Efficiency,dimensionless,30.60,31.16,30.70,30.72,31.83,31.81,32.52,31.67,32.05'''"
   ]
  },
  {
   "cell_type": "markdown",
   "metadata": {},
   "source": [
    "Let's read that into a DataFrame.\n",
    "Here io.StringIO is used in place of reading a file from disk, whereas a csv file path would typically be used and is shown commented."
   ]
  },
  {
   "cell_type": "code",
   "execution_count": 12,
   "metadata": {},
   "outputs": [
    {
     "data": {
      "text/html": [
       "<div>\n",
       "<style scoped>\n",
       "    .dataframe tbody tr th:only-of-type {\n",
       "        vertical-align: middle;\n",
       "    }\n",
       "\n",
       "    .dataframe tbody tr th {\n",
       "        vertical-align: top;\n",
       "    }\n",
       "\n",
       "    .dataframe thead tr th {\n",
       "        text-align: left;\n",
       "    }\n",
       "\n",
       "    .dataframe thead tr:last-of-type th {\n",
       "        text-align: right;\n",
       "    }\n",
       "</style>\n",
       "<table border=\"1\" class=\"dataframe\">\n",
       "  <thead>\n",
       "    <tr>\n",
       "      <th></th>\n",
       "      <th></th>\n",
       "      <th>ShaftSpeed</th>\n",
       "      <th>FlowRate</th>\n",
       "      <th>DifferentialPressure</th>\n",
       "      <th>ShaftPower</th>\n",
       "      <th>Efficiency</th>\n",
       "    </tr>\n",
       "    <tr>\n",
       "      <th></th>\n",
       "      <th></th>\n",
       "      <th>rpm</th>\n",
       "      <th>m^3 h^-1</th>\n",
       "      <th>kPa</th>\n",
       "      <th>kW</th>\n",
       "      <th>dimensionless</th>\n",
       "    </tr>\n",
       "    <tr>\n",
       "      <th>ShaftSpeedIndex</th>\n",
       "      <th>pump</th>\n",
       "      <th></th>\n",
       "      <th></th>\n",
       "      <th></th>\n",
       "      <th></th>\n",
       "      <th></th>\n",
       "    </tr>\n",
       "  </thead>\n",
       "  <tbody>\n",
       "    <tr>\n",
       "      <th rowspan=\"3\" valign=\"top\">1200</th>\n",
       "      <th>A</th>\n",
       "      <td>1200.0</td>\n",
       "      <td>8.72</td>\n",
       "      <td>162.03</td>\n",
       "      <td>1.32</td>\n",
       "      <td>30.60</td>\n",
       "    </tr>\n",
       "    <tr>\n",
       "      <th>B</th>\n",
       "      <td>1200.0</td>\n",
       "      <td>9.28</td>\n",
       "      <td>144.16</td>\n",
       "      <td>1.23</td>\n",
       "      <td>31.16</td>\n",
       "    </tr>\n",
       "    <tr>\n",
       "      <th>C</th>\n",
       "      <td>1200.0</td>\n",
       "      <td>9.31</td>\n",
       "      <td>136.47</td>\n",
       "      <td>1.18</td>\n",
       "      <td>30.70</td>\n",
       "    </tr>\n",
       "    <tr>\n",
       "      <th rowspan=\"3\" valign=\"top\">1600</th>\n",
       "      <th>A</th>\n",
       "      <td>1600.0</td>\n",
       "      <td>11.61</td>\n",
       "      <td>286.86</td>\n",
       "      <td>3.09</td>\n",
       "      <td>30.72</td>\n",
       "    </tr>\n",
       "    <tr>\n",
       "      <th>B</th>\n",
       "      <td>1600.0</td>\n",
       "      <td>12.78</td>\n",
       "      <td>241.41</td>\n",
       "      <td>2.78</td>\n",
       "      <td>31.83</td>\n",
       "    </tr>\n",
       "    <tr>\n",
       "      <th>C</th>\n",
       "      <td>1600.0</td>\n",
       "      <td>13.51</td>\n",
       "      <td>204.21</td>\n",
       "      <td>2.50</td>\n",
       "      <td>31.81</td>\n",
       "    </tr>\n",
       "    <tr>\n",
       "      <th rowspan=\"3\" valign=\"top\">2300</th>\n",
       "      <th>A</th>\n",
       "      <td>2300.0</td>\n",
       "      <td>18.32</td>\n",
       "      <td>533.17</td>\n",
       "      <td>8.59</td>\n",
       "      <td>32.52</td>\n",
       "    </tr>\n",
       "    <tr>\n",
       "      <th>B</th>\n",
       "      <td>2300.0</td>\n",
       "      <td>17.90</td>\n",
       "      <td>526.74</td>\n",
       "      <td>8.51</td>\n",
       "      <td>31.67</td>\n",
       "    </tr>\n",
       "    <tr>\n",
       "      <th>C</th>\n",
       "      <td>2300.0</td>\n",
       "      <td>19.23</td>\n",
       "      <td>440.76</td>\n",
       "      <td>7.61</td>\n",
       "      <td>32.05</td>\n",
       "    </tr>\n",
       "  </tbody>\n",
       "</table>\n",
       "</div>"
      ],
      "text/plain": [
       "                     ShaftSpeed FlowRate DifferentialPressure ShaftPower  \\\n",
       "                            rpm m^3 h^-1                  kPa         kW   \n",
       "ShaftSpeedIndex pump                                                       \n",
       "1200            A        1200.0     8.72               162.03       1.32   \n",
       "                B        1200.0     9.28               144.16       1.23   \n",
       "                C        1200.0     9.31               136.47       1.18   \n",
       "1600            A        1600.0    11.61               286.86       3.09   \n",
       "                B        1600.0    12.78               241.41       2.78   \n",
       "                C        1600.0    13.51               204.21       2.50   \n",
       "2300            A        2300.0    18.32               533.17       8.59   \n",
       "                B        2300.0    17.90               526.74       8.51   \n",
       "                C        2300.0    19.23               440.76       7.61   \n",
       "\n",
       "                        Efficiency  \n",
       "                     dimensionless  \n",
       "ShaftSpeedIndex pump                \n",
       "1200            A            30.60  \n",
       "                B            31.16  \n",
       "                C            30.70  \n",
       "1600            A            30.72  \n",
       "                B            31.83  \n",
       "                C            31.81  \n",
       "2300            A            32.52  \n",
       "                B            31.67  \n",
       "                C            32.05  "
      ]
     },
     "execution_count": 12,
     "metadata": {},
     "output_type": "execute_result"
    }
   ],
   "source": [
    "df = pd.read_csv(io.StringIO(test_data), header=[0, 1], index_col = [0,1]).T\n",
    "# df = pd.read_csv(\"/path/to/test_data.csv\", header=[0, 1])\n",
    "df"
   ]
  },
  {
   "cell_type": "markdown",
   "metadata": {},
   "source": [
    "Then use the DataFrame's pint accessor's quantify method to convert the columns from `np.ndarray`s to PintArrays, with units from the bottom column level."
   ]
  },
  {
   "cell_type": "code",
   "execution_count": 13,
   "metadata": {},
   "outputs": [
    {
     "data": {
      "text/plain": [
       "ShaftSpeed            rpm              float64\n",
       "FlowRate              m^3 h^-1         float64\n",
       "DifferentialPressure  kPa              float64\n",
       "ShaftPower            kW               float64\n",
       "Efficiency            dimensionless    float64\n",
       "dtype: object"
      ]
     },
     "execution_count": 13,
     "metadata": {},
     "output_type": "execute_result"
    }
   ],
   "source": [
    "df.dtypes"
   ]
  },
  {
   "cell_type": "code",
   "execution_count": 14,
   "metadata": {},
   "outputs": [
    {
     "data": {
      "text/html": [
       "<div>\n",
       "<style scoped>\n",
       "    .dataframe tbody tr th:only-of-type {\n",
       "        vertical-align: middle;\n",
       "    }\n",
       "\n",
       "    .dataframe tbody tr th {\n",
       "        vertical-align: top;\n",
       "    }\n",
       "\n",
       "    .dataframe thead th {\n",
       "        text-align: right;\n",
       "    }\n",
       "</style>\n",
       "<table border=\"1\" class=\"dataframe\">\n",
       "  <thead>\n",
       "    <tr style=\"text-align: right;\">\n",
       "      <th></th>\n",
       "      <th></th>\n",
       "      <th>ShaftSpeed</th>\n",
       "      <th>FlowRate</th>\n",
       "      <th>DifferentialPressure</th>\n",
       "      <th>ShaftPower</th>\n",
       "      <th>Efficiency</th>\n",
       "    </tr>\n",
       "    <tr>\n",
       "      <th>ShaftSpeedIndex</th>\n",
       "      <th>pump</th>\n",
       "      <th></th>\n",
       "      <th></th>\n",
       "      <th></th>\n",
       "      <th></th>\n",
       "      <th></th>\n",
       "    </tr>\n",
       "  </thead>\n",
       "  <tbody>\n",
       "    <tr>\n",
       "      <th rowspan=\"3\" valign=\"top\">1200</th>\n",
       "      <th>A</th>\n",
       "      <td>1200.0</td>\n",
       "      <td>8.72</td>\n",
       "      <td>162.03</td>\n",
       "      <td>1.32</td>\n",
       "      <td>30.6</td>\n",
       "    </tr>\n",
       "    <tr>\n",
       "      <th>B</th>\n",
       "      <td>1200.0</td>\n",
       "      <td>9.28</td>\n",
       "      <td>144.16</td>\n",
       "      <td>1.23</td>\n",
       "      <td>31.16</td>\n",
       "    </tr>\n",
       "    <tr>\n",
       "      <th>C</th>\n",
       "      <td>1200.0</td>\n",
       "      <td>9.31</td>\n",
       "      <td>136.47</td>\n",
       "      <td>1.18</td>\n",
       "      <td>30.7</td>\n",
       "    </tr>\n",
       "    <tr>\n",
       "      <th rowspan=\"3\" valign=\"top\">1600</th>\n",
       "      <th>A</th>\n",
       "      <td>1600.0</td>\n",
       "      <td>11.61</td>\n",
       "      <td>286.86</td>\n",
       "      <td>3.09</td>\n",
       "      <td>30.72</td>\n",
       "    </tr>\n",
       "    <tr>\n",
       "      <th>B</th>\n",
       "      <td>1600.0</td>\n",
       "      <td>12.78</td>\n",
       "      <td>241.41</td>\n",
       "      <td>2.78</td>\n",
       "      <td>31.83</td>\n",
       "    </tr>\n",
       "    <tr>\n",
       "      <th>C</th>\n",
       "      <td>1600.0</td>\n",
       "      <td>13.51</td>\n",
       "      <td>204.21</td>\n",
       "      <td>2.5</td>\n",
       "      <td>31.81</td>\n",
       "    </tr>\n",
       "    <tr>\n",
       "      <th rowspan=\"3\" valign=\"top\">2300</th>\n",
       "      <th>A</th>\n",
       "      <td>2300.0</td>\n",
       "      <td>18.32</td>\n",
       "      <td>533.17</td>\n",
       "      <td>8.59</td>\n",
       "      <td>32.52</td>\n",
       "    </tr>\n",
       "    <tr>\n",
       "      <th>B</th>\n",
       "      <td>2300.0</td>\n",
       "      <td>17.9</td>\n",
       "      <td>526.74</td>\n",
       "      <td>8.51</td>\n",
       "      <td>31.67</td>\n",
       "    </tr>\n",
       "    <tr>\n",
       "      <th>C</th>\n",
       "      <td>2300.0</td>\n",
       "      <td>19.23</td>\n",
       "      <td>440.76</td>\n",
       "      <td>7.61</td>\n",
       "      <td>32.05</td>\n",
       "    </tr>\n",
       "  </tbody>\n",
       "</table>\n",
       "</div>"
      ],
      "text/plain": [
       "                     ShaftSpeed FlowRate DifferentialPressure ShaftPower  \\\n",
       "ShaftSpeedIndex pump                                                       \n",
       "1200            A        1200.0     8.72               162.03       1.32   \n",
       "                B        1200.0     9.28               144.16       1.23   \n",
       "                C        1200.0     9.31               136.47       1.18   \n",
       "1600            A        1600.0    11.61               286.86       3.09   \n",
       "                B        1600.0    12.78               241.41       2.78   \n",
       "                C        1600.0    13.51               204.21        2.5   \n",
       "2300            A        2300.0    18.32               533.17       8.59   \n",
       "                B        2300.0     17.9               526.74       8.51   \n",
       "                C        2300.0    19.23               440.76       7.61   \n",
       "\n",
       "                     Efficiency  \n",
       "ShaftSpeedIndex pump             \n",
       "1200            A          30.6  \n",
       "                B         31.16  \n",
       "                C          30.7  \n",
       "1600            A         30.72  \n",
       "                B         31.83  \n",
       "                C         31.81  \n",
       "2300            A         32.52  \n",
       "                B         31.67  \n",
       "                C         32.05  "
      ]
     },
     "execution_count": 14,
     "metadata": {},
     "output_type": "execute_result"
    }
   ],
   "source": [
    "df_ = df.pint.quantify(level=-1)\n",
    "df_"
   ]
  },
  {
   "cell_type": "markdown",
   "metadata": {},
   "source": [
    "Let's confirm the units have been parsed correctly"
   ]
  },
  {
   "cell_type": "code",
   "execution_count": 15,
   "metadata": {},
   "outputs": [
    {
     "data": {
      "text/plain": [
       "ShaftSpeed                    pint[revolutions_per_minute]\n",
       "FlowRate                pint[meter ** 3 / planck_constant]\n",
       "DifferentialPressure                      pint[kilopascal]\n",
       "ShaftPower                                  pint[kilowatt]\n",
       "Efficiency                             pint[dimensionless]\n",
       "dtype: object"
      ]
     },
     "execution_count": 15,
     "metadata": {},
     "output_type": "execute_result"
    }
   ],
   "source": [
    "df_.dtypes"
   ]
  },
  {
   "cell_type": "markdown",
   "metadata": {},
   "source": [
    "Here the h in m^3 h^-1 has been parsed as the planck constant. Let's change the unit to hours."
   ]
  },
  {
   "cell_type": "code",
   "execution_count": 16,
   "metadata": {},
   "outputs": [
    {
     "data": {
      "text/plain": [
       "ShaftSpeed              pint[revolutions_per_minute]\n",
       "FlowRate                     pint[meter ** 3 / hour]\n",
       "DifferentialPressure                pint[kilopascal]\n",
       "ShaftPower                            pint[kilowatt]\n",
       "Efficiency                       pint[dimensionless]\n",
       "dtype: object"
      ]
     },
     "execution_count": 16,
     "metadata": {},
     "output_type": "execute_result"
    }
   ],
   "source": [
    "df_['FlowRate'] = pint_pandas.PintArray(df_['FlowRate'].values.quantity.m, dtype = \"pint[m^3/hr]\")\n",
    "df_.dtypes"
   ]
  },
  {
   "cell_type": "markdown",
   "metadata": {},
   "source": [
    "As previously, operations between DataFrame columns are unit aware"
   ]
  },
  {
   "cell_type": "code",
   "execution_count": 17,
   "metadata": {},
   "outputs": [
    {
     "data": {
      "text/plain": [
       "ShaftSpeedIndex  pump\n",
       "1200             A                      0.0011\n",
       "                 B                    0.001025\n",
       "                 C       0.0009833333333333332\n",
       "1600             A       0.0019312499999999998\n",
       "                 B                   0.0017375\n",
       "                 C                   0.0015625\n",
       "2300             A        0.003734782608695652\n",
       "                 B       0.0036999999999999997\n",
       "                 C       0.0033086956521739133\n",
       "dtype: pint[kilowatt / revolutions_per_minute]"
      ]
     },
     "execution_count": 17,
     "metadata": {},
     "output_type": "execute_result"
    }
   ],
   "source": [
    "df_.ShaftPower / df_.ShaftSpeed"
   ]
  },
  {
   "cell_type": "code",
   "execution_count": 18,
   "metadata": {},
   "outputs": [
    {
     "data": {
      "text/html": [
       "<div>\n",
       "<style scoped>\n",
       "    .dataframe tbody tr th:only-of-type {\n",
       "        vertical-align: middle;\n",
       "    }\n",
       "\n",
       "    .dataframe tbody tr th {\n",
       "        vertical-align: top;\n",
       "    }\n",
       "\n",
       "    .dataframe thead th {\n",
       "        text-align: right;\n",
       "    }\n",
       "</style>\n",
       "<table border=\"1\" class=\"dataframe\">\n",
       "  <thead>\n",
       "    <tr style=\"text-align: right;\">\n",
       "      <th></th>\n",
       "      <th></th>\n",
       "      <th>ShaftSpeed</th>\n",
       "      <th>FlowRate</th>\n",
       "      <th>DifferentialPressure</th>\n",
       "      <th>ShaftPower</th>\n",
       "      <th>Efficiency</th>\n",
       "      <th>ShaftTorque</th>\n",
       "      <th>FluidPower</th>\n",
       "    </tr>\n",
       "    <tr>\n",
       "      <th>ShaftSpeedIndex</th>\n",
       "      <th>pump</th>\n",
       "      <th></th>\n",
       "      <th></th>\n",
       "      <th></th>\n",
       "      <th></th>\n",
       "      <th></th>\n",
       "      <th></th>\n",
       "      <th></th>\n",
       "    </tr>\n",
       "  </thead>\n",
       "  <tbody>\n",
       "    <tr>\n",
       "      <th rowspan=\"3\" valign=\"top\">1200</th>\n",
       "      <th>A</th>\n",
       "      <td>1200.0</td>\n",
       "      <td>8.72</td>\n",
       "      <td>162.03</td>\n",
       "      <td>1.32</td>\n",
       "      <td>30.6</td>\n",
       "      <td>0.0011</td>\n",
       "      <td>1412.9016000000001</td>\n",
       "    </tr>\n",
       "    <tr>\n",
       "      <th>B</th>\n",
       "      <td>1200.0</td>\n",
       "      <td>9.28</td>\n",
       "      <td>144.16</td>\n",
       "      <td>1.23</td>\n",
       "      <td>31.16</td>\n",
       "      <td>0.001025</td>\n",
       "      <td>1337.8048</td>\n",
       "    </tr>\n",
       "    <tr>\n",
       "      <th>C</th>\n",
       "      <td>1200.0</td>\n",
       "      <td>9.31</td>\n",
       "      <td>136.47</td>\n",
       "      <td>1.18</td>\n",
       "      <td>30.7</td>\n",
       "      <td>0.0009833333333333332</td>\n",
       "      <td>1270.5357000000001</td>\n",
       "    </tr>\n",
       "    <tr>\n",
       "      <th rowspan=\"3\" valign=\"top\">1600</th>\n",
       "      <th>A</th>\n",
       "      <td>1600.0</td>\n",
       "      <td>11.61</td>\n",
       "      <td>286.86</td>\n",
       "      <td>3.09</td>\n",
       "      <td>30.72</td>\n",
       "      <td>0.0019312499999999998</td>\n",
       "      <td>3330.4446</td>\n",
       "    </tr>\n",
       "    <tr>\n",
       "      <th>B</th>\n",
       "      <td>1600.0</td>\n",
       "      <td>12.78</td>\n",
       "      <td>241.41</td>\n",
       "      <td>2.78</td>\n",
       "      <td>31.83</td>\n",
       "      <td>0.0017375</td>\n",
       "      <td>3085.2198</td>\n",
       "    </tr>\n",
       "    <tr>\n",
       "      <th>C</th>\n",
       "      <td>1600.0</td>\n",
       "      <td>13.51</td>\n",
       "      <td>204.21</td>\n",
       "      <td>2.5</td>\n",
       "      <td>31.81</td>\n",
       "      <td>0.0015625</td>\n",
       "      <td>2758.8771</td>\n",
       "    </tr>\n",
       "    <tr>\n",
       "      <th rowspan=\"3\" valign=\"top\">2300</th>\n",
       "      <th>A</th>\n",
       "      <td>2300.0</td>\n",
       "      <td>18.32</td>\n",
       "      <td>533.17</td>\n",
       "      <td>8.59</td>\n",
       "      <td>32.52</td>\n",
       "      <td>0.003734782608695652</td>\n",
       "      <td>9767.6744</td>\n",
       "    </tr>\n",
       "    <tr>\n",
       "      <th>B</th>\n",
       "      <td>2300.0</td>\n",
       "      <td>17.9</td>\n",
       "      <td>526.74</td>\n",
       "      <td>8.51</td>\n",
       "      <td>31.67</td>\n",
       "      <td>0.0036999999999999997</td>\n",
       "      <td>9428.645999999999</td>\n",
       "    </tr>\n",
       "    <tr>\n",
       "      <th>C</th>\n",
       "      <td>2300.0</td>\n",
       "      <td>19.23</td>\n",
       "      <td>440.76</td>\n",
       "      <td>7.61</td>\n",
       "      <td>32.05</td>\n",
       "      <td>0.0033086956521739133</td>\n",
       "      <td>8475.8148</td>\n",
       "    </tr>\n",
       "  </tbody>\n",
       "</table>\n",
       "</div>"
      ],
      "text/plain": [
       "                     ShaftSpeed FlowRate DifferentialPressure ShaftPower  \\\n",
       "ShaftSpeedIndex pump                                                       \n",
       "1200            A        1200.0     8.72               162.03       1.32   \n",
       "                B        1200.0     9.28               144.16       1.23   \n",
       "                C        1200.0     9.31               136.47       1.18   \n",
       "1600            A        1600.0    11.61               286.86       3.09   \n",
       "                B        1600.0    12.78               241.41       2.78   \n",
       "                C        1600.0    13.51               204.21        2.5   \n",
       "2300            A        2300.0    18.32               533.17       8.59   \n",
       "                B        2300.0     17.9               526.74       8.51   \n",
       "                C        2300.0    19.23               440.76       7.61   \n",
       "\n",
       "                     Efficiency            ShaftTorque          FluidPower  \n",
       "ShaftSpeedIndex pump                                                        \n",
       "1200            A          30.6                 0.0011  1412.9016000000001  \n",
       "                B         31.16               0.001025           1337.8048  \n",
       "                C          30.7  0.0009833333333333332  1270.5357000000001  \n",
       "1600            A         30.72  0.0019312499999999998           3330.4446  \n",
       "                B         31.83              0.0017375           3085.2198  \n",
       "                C         31.81              0.0015625           2758.8771  \n",
       "2300            A         32.52   0.003734782608695652           9767.6744  \n",
       "                B         31.67  0.0036999999999999997   9428.645999999999  \n",
       "                C         32.05  0.0033086956521739133           8475.8148  "
      ]
     },
     "execution_count": 18,
     "metadata": {},
     "output_type": "execute_result"
    }
   ],
   "source": [
    "df_['ShaftTorque'] = df_.ShaftPower / df_.ShaftSpeed\n",
    "df_['FluidPower'] = df_['FlowRate'] * df_['DifferentialPressure']\n",
    "df_"
   ]
  },
  {
   "cell_type": "markdown",
   "metadata": {},
   "source": [
    "The DataFrame's `pint.dequantify` method then allows us to retrieve the units information as a header row once again."
   ]
  },
  {
   "cell_type": "code",
   "execution_count": 19,
   "metadata": {},
   "outputs": [
    {
     "data": {
      "text/html": [
       "<div>\n",
       "<style scoped>\n",
       "    .dataframe tbody tr th:only-of-type {\n",
       "        vertical-align: middle;\n",
       "    }\n",
       "\n",
       "    .dataframe tbody tr th {\n",
       "        vertical-align: top;\n",
       "    }\n",
       "\n",
       "    .dataframe thead tr th {\n",
       "        text-align: left;\n",
       "    }\n",
       "\n",
       "    .dataframe thead tr:last-of-type th {\n",
       "        text-align: right;\n",
       "    }\n",
       "</style>\n",
       "<table border=\"1\" class=\"dataframe\">\n",
       "  <thead>\n",
       "    <tr>\n",
       "      <th></th>\n",
       "      <th></th>\n",
       "      <th>ShaftSpeed</th>\n",
       "      <th>FlowRate</th>\n",
       "      <th>DifferentialPressure</th>\n",
       "      <th>ShaftPower</th>\n",
       "      <th>Efficiency</th>\n",
       "      <th>ShaftTorque</th>\n",
       "      <th>FluidPower</th>\n",
       "    </tr>\n",
       "    <tr>\n",
       "      <th></th>\n",
       "      <th>unit</th>\n",
       "      <th>revolutions_per_minute</th>\n",
       "      <th>meter ** 3 / hour</th>\n",
       "      <th>kilopascal</th>\n",
       "      <th>kilowatt</th>\n",
       "      <th>dimensionless</th>\n",
       "      <th>kilowatt / revolutions_per_minute</th>\n",
       "      <th>kilopascal * meter ** 3 / hour</th>\n",
       "    </tr>\n",
       "    <tr>\n",
       "      <th>ShaftSpeedIndex</th>\n",
       "      <th>pump</th>\n",
       "      <th></th>\n",
       "      <th></th>\n",
       "      <th></th>\n",
       "      <th></th>\n",
       "      <th></th>\n",
       "      <th></th>\n",
       "      <th></th>\n",
       "    </tr>\n",
       "  </thead>\n",
       "  <tbody>\n",
       "    <tr>\n",
       "      <th rowspan=\"3\" valign=\"top\">1200</th>\n",
       "      <th>A</th>\n",
       "      <td>1200.0</td>\n",
       "      <td>8.72</td>\n",
       "      <td>162.03</td>\n",
       "      <td>1.32</td>\n",
       "      <td>30.60</td>\n",
       "      <td>0.001100</td>\n",
       "      <td>1412.9016</td>\n",
       "    </tr>\n",
       "    <tr>\n",
       "      <th>B</th>\n",
       "      <td>1200.0</td>\n",
       "      <td>9.28</td>\n",
       "      <td>144.16</td>\n",
       "      <td>1.23</td>\n",
       "      <td>31.16</td>\n",
       "      <td>0.001025</td>\n",
       "      <td>1337.8048</td>\n",
       "    </tr>\n",
       "    <tr>\n",
       "      <th>C</th>\n",
       "      <td>1200.0</td>\n",
       "      <td>9.31</td>\n",
       "      <td>136.47</td>\n",
       "      <td>1.18</td>\n",
       "      <td>30.70</td>\n",
       "      <td>0.000983</td>\n",
       "      <td>1270.5357</td>\n",
       "    </tr>\n",
       "    <tr>\n",
       "      <th rowspan=\"3\" valign=\"top\">1600</th>\n",
       "      <th>A</th>\n",
       "      <td>1600.0</td>\n",
       "      <td>11.61</td>\n",
       "      <td>286.86</td>\n",
       "      <td>3.09</td>\n",
       "      <td>30.72</td>\n",
       "      <td>0.001931</td>\n",
       "      <td>3330.4446</td>\n",
       "    </tr>\n",
       "    <tr>\n",
       "      <th>B</th>\n",
       "      <td>1600.0</td>\n",
       "      <td>12.78</td>\n",
       "      <td>241.41</td>\n",
       "      <td>2.78</td>\n",
       "      <td>31.83</td>\n",
       "      <td>0.001737</td>\n",
       "      <td>3085.2198</td>\n",
       "    </tr>\n",
       "    <tr>\n",
       "      <th>C</th>\n",
       "      <td>1600.0</td>\n",
       "      <td>13.51</td>\n",
       "      <td>204.21</td>\n",
       "      <td>2.50</td>\n",
       "      <td>31.81</td>\n",
       "      <td>0.001563</td>\n",
       "      <td>2758.8771</td>\n",
       "    </tr>\n",
       "    <tr>\n",
       "      <th rowspan=\"3\" valign=\"top\">2300</th>\n",
       "      <th>A</th>\n",
       "      <td>2300.0</td>\n",
       "      <td>18.32</td>\n",
       "      <td>533.17</td>\n",
       "      <td>8.59</td>\n",
       "      <td>32.52</td>\n",
       "      <td>0.003735</td>\n",
       "      <td>9767.6744</td>\n",
       "    </tr>\n",
       "    <tr>\n",
       "      <th>B</th>\n",
       "      <td>2300.0</td>\n",
       "      <td>17.90</td>\n",
       "      <td>526.74</td>\n",
       "      <td>8.51</td>\n",
       "      <td>31.67</td>\n",
       "      <td>0.003700</td>\n",
       "      <td>9428.6460</td>\n",
       "    </tr>\n",
       "    <tr>\n",
       "      <th>C</th>\n",
       "      <td>2300.0</td>\n",
       "      <td>19.23</td>\n",
       "      <td>440.76</td>\n",
       "      <td>7.61</td>\n",
       "      <td>32.05</td>\n",
       "      <td>0.003309</td>\n",
       "      <td>8475.8148</td>\n",
       "    </tr>\n",
       "  </tbody>\n",
       "</table>\n",
       "</div>"
      ],
      "text/plain": [
       "                                 ShaftSpeed          FlowRate  \\\n",
       "unit                 revolutions_per_minute meter ** 3 / hour   \n",
       "ShaftSpeedIndex pump                                            \n",
       "1200            A                    1200.0              8.72   \n",
       "                B                    1200.0              9.28   \n",
       "                C                    1200.0              9.31   \n",
       "1600            A                    1600.0             11.61   \n",
       "                B                    1600.0             12.78   \n",
       "                C                    1600.0             13.51   \n",
       "2300            A                    2300.0             18.32   \n",
       "                B                    2300.0             17.90   \n",
       "                C                    2300.0             19.23   \n",
       "\n",
       "                     DifferentialPressure ShaftPower    Efficiency  \\\n",
       "unit                           kilopascal   kilowatt dimensionless   \n",
       "ShaftSpeedIndex pump                                                 \n",
       "1200            A                  162.03       1.32         30.60   \n",
       "                B                  144.16       1.23         31.16   \n",
       "                C                  136.47       1.18         30.70   \n",
       "1600            A                  286.86       3.09         30.72   \n",
       "                B                  241.41       2.78         31.83   \n",
       "                C                  204.21       2.50         31.81   \n",
       "2300            A                  533.17       8.59         32.52   \n",
       "                B                  526.74       8.51         31.67   \n",
       "                C                  440.76       7.61         32.05   \n",
       "\n",
       "                                           ShaftTorque  \\\n",
       "unit                 kilowatt / revolutions_per_minute   \n",
       "ShaftSpeedIndex pump                                     \n",
       "1200            A                             0.001100   \n",
       "                B                             0.001025   \n",
       "                C                             0.000983   \n",
       "1600            A                             0.001931   \n",
       "                B                             0.001737   \n",
       "                C                             0.001563   \n",
       "2300            A                             0.003735   \n",
       "                B                             0.003700   \n",
       "                C                             0.003309   \n",
       "\n",
       "                                         FluidPower  \n",
       "unit                 kilopascal * meter ** 3 / hour  \n",
       "ShaftSpeedIndex pump                                 \n",
       "1200            A                         1412.9016  \n",
       "                B                         1337.8048  \n",
       "                C                         1270.5357  \n",
       "1600            A                         3330.4446  \n",
       "                B                         3085.2198  \n",
       "                C                         2758.8771  \n",
       "2300            A                         9767.6744  \n",
       "                B                         9428.6460  \n",
       "                C                         8475.8148  "
      ]
     },
     "execution_count": 19,
     "metadata": {},
     "output_type": "execute_result"
    }
   ],
   "source": [
    "df_.pint.dequantify()"
   ]
  },
  {
   "cell_type": "markdown",
   "metadata": {},
   "source": [
    "This allows for some rather powerful abilities. For example, to change single column units"
   ]
  },
  {
   "cell_type": "code",
   "execution_count": 20,
   "metadata": {},
   "outputs": [
    {
     "data": {
      "text/html": [
       "<div>\n",
       "<style scoped>\n",
       "    .dataframe tbody tr th:only-of-type {\n",
       "        vertical-align: middle;\n",
       "    }\n",
       "\n",
       "    .dataframe tbody tr th {\n",
       "        vertical-align: top;\n",
       "    }\n",
       "\n",
       "    .dataframe thead tr th {\n",
       "        text-align: left;\n",
       "    }\n",
       "\n",
       "    .dataframe thead tr:last-of-type th {\n",
       "        text-align: right;\n",
       "    }\n",
       "</style>\n",
       "<table border=\"1\" class=\"dataframe\">\n",
       "  <thead>\n",
       "    <tr>\n",
       "      <th></th>\n",
       "      <th></th>\n",
       "      <th>ShaftSpeed</th>\n",
       "      <th>FlowRate</th>\n",
       "      <th>DifferentialPressure</th>\n",
       "      <th>ShaftPower</th>\n",
       "      <th>Efficiency</th>\n",
       "      <th>ShaftTorque</th>\n",
       "      <th>FluidPower</th>\n",
       "    </tr>\n",
       "    <tr>\n",
       "      <th></th>\n",
       "      <th>unit</th>\n",
       "      <th>revolutions_per_minute</th>\n",
       "      <th>liter / second</th>\n",
       "      <th>kilopascal</th>\n",
       "      <th>kilowatt</th>\n",
       "      <th>dimensionless</th>\n",
       "      <th>meter * newton</th>\n",
       "      <th>kilowatt</th>\n",
       "    </tr>\n",
       "    <tr>\n",
       "      <th>ShaftSpeedIndex</th>\n",
       "      <th>pump</th>\n",
       "      <th></th>\n",
       "      <th></th>\n",
       "      <th></th>\n",
       "      <th></th>\n",
       "      <th></th>\n",
       "      <th></th>\n",
       "      <th></th>\n",
       "    </tr>\n",
       "  </thead>\n",
       "  <tbody>\n",
       "    <tr>\n",
       "      <th rowspan=\"3\" valign=\"top\">1200</th>\n",
       "      <th>A</th>\n",
       "      <td>1200.0</td>\n",
       "      <td>2.422222</td>\n",
       "      <td>162.03</td>\n",
       "      <td>1.32</td>\n",
       "      <td>30.60</td>\n",
       "      <td>10.504226</td>\n",
       "      <td>0.392473</td>\n",
       "    </tr>\n",
       "    <tr>\n",
       "      <th>B</th>\n",
       "      <td>1200.0</td>\n",
       "      <td>2.577778</td>\n",
       "      <td>144.16</td>\n",
       "      <td>1.23</td>\n",
       "      <td>31.16</td>\n",
       "      <td>9.788029</td>\n",
       "      <td>0.371612</td>\n",
       "    </tr>\n",
       "    <tr>\n",
       "      <th>C</th>\n",
       "      <td>1200.0</td>\n",
       "      <td>2.586111</td>\n",
       "      <td>136.47</td>\n",
       "      <td>1.18</td>\n",
       "      <td>30.70</td>\n",
       "      <td>9.390142</td>\n",
       "      <td>0.352927</td>\n",
       "    </tr>\n",
       "    <tr>\n",
       "      <th rowspan=\"3\" valign=\"top\">1600</th>\n",
       "      <th>A</th>\n",
       "      <td>1600.0</td>\n",
       "      <td>3.225000</td>\n",
       "      <td>286.86</td>\n",
       "      <td>3.09</td>\n",
       "      <td>30.72</td>\n",
       "      <td>18.442079</td>\n",
       "      <td>0.925123</td>\n",
       "    </tr>\n",
       "    <tr>\n",
       "      <th>B</th>\n",
       "      <td>1600.0</td>\n",
       "      <td>3.550000</td>\n",
       "      <td>241.41</td>\n",
       "      <td>2.78</td>\n",
       "      <td>31.83</td>\n",
       "      <td>16.591903</td>\n",
       "      <td>0.857005</td>\n",
       "    </tr>\n",
       "    <tr>\n",
       "      <th>C</th>\n",
       "      <td>1600.0</td>\n",
       "      <td>3.752778</td>\n",
       "      <td>204.21</td>\n",
       "      <td>2.50</td>\n",
       "      <td>31.81</td>\n",
       "      <td>14.920776</td>\n",
       "      <td>0.766355</td>\n",
       "    </tr>\n",
       "    <tr>\n",
       "      <th rowspan=\"3\" valign=\"top\">2300</th>\n",
       "      <th>A</th>\n",
       "      <td>2300.0</td>\n",
       "      <td>5.088889</td>\n",
       "      <td>533.17</td>\n",
       "      <td>8.59</td>\n",
       "      <td>32.52</td>\n",
       "      <td>35.664547</td>\n",
       "      <td>2.713243</td>\n",
       "    </tr>\n",
       "    <tr>\n",
       "      <th>B</th>\n",
       "      <td>2300.0</td>\n",
       "      <td>4.972222</td>\n",
       "      <td>526.74</td>\n",
       "      <td>8.51</td>\n",
       "      <td>31.67</td>\n",
       "      <td>35.332397</td>\n",
       "      <td>2.619068</td>\n",
       "    </tr>\n",
       "    <tr>\n",
       "      <th>C</th>\n",
       "      <td>2300.0</td>\n",
       "      <td>5.341667</td>\n",
       "      <td>440.76</td>\n",
       "      <td>7.61</td>\n",
       "      <td>32.05</td>\n",
       "      <td>31.595716</td>\n",
       "      <td>2.354393</td>\n",
       "    </tr>\n",
       "  </tbody>\n",
       "</table>\n",
       "</div>"
      ],
      "text/plain": [
       "                                 ShaftSpeed       FlowRate  \\\n",
       "unit                 revolutions_per_minute liter / second   \n",
       "ShaftSpeedIndex pump                                         \n",
       "1200            A                    1200.0       2.422222   \n",
       "                B                    1200.0       2.577778   \n",
       "                C                    1200.0       2.586111   \n",
       "1600            A                    1600.0       3.225000   \n",
       "                B                    1600.0       3.550000   \n",
       "                C                    1600.0       3.752778   \n",
       "2300            A                    2300.0       5.088889   \n",
       "                B                    2300.0       4.972222   \n",
       "                C                    2300.0       5.341667   \n",
       "\n",
       "                     DifferentialPressure ShaftPower    Efficiency  \\\n",
       "unit                           kilopascal   kilowatt dimensionless   \n",
       "ShaftSpeedIndex pump                                                 \n",
       "1200            A                  162.03       1.32         30.60   \n",
       "                B                  144.16       1.23         31.16   \n",
       "                C                  136.47       1.18         30.70   \n",
       "1600            A                  286.86       3.09         30.72   \n",
       "                B                  241.41       2.78         31.83   \n",
       "                C                  204.21       2.50         31.81   \n",
       "2300            A                  533.17       8.59         32.52   \n",
       "                B                  526.74       8.51         31.67   \n",
       "                C                  440.76       7.61         32.05   \n",
       "\n",
       "                        ShaftTorque FluidPower  \n",
       "unit                 meter * newton   kilowatt  \n",
       "ShaftSpeedIndex pump                            \n",
       "1200            A         10.504226   0.392473  \n",
       "                B          9.788029   0.371612  \n",
       "                C          9.390142   0.352927  \n",
       "1600            A         18.442079   0.925123  \n",
       "                B         16.591903   0.857005  \n",
       "                C         14.920776   0.766355  \n",
       "2300            A         35.664547   2.713243  \n",
       "                B         35.332397   2.619068  \n",
       "                C         31.595716   2.354393  "
      ]
     },
     "execution_count": 20,
     "metadata": {},
     "output_type": "execute_result"
    }
   ],
   "source": [
    "df_['FluidPower'] = df_['FluidPower'].pint.to(\"kW\")\n",
    "df_['FlowRate'] = df_['FlowRate'].pint.to(\"L/s\")\n",
    "df_['ShaftTorque'] = df_['ShaftTorque'].pint.to(\"N m\")\n",
    "df_.pint.dequantify()"
   ]
  },
  {
   "cell_type": "markdown",
   "metadata": {},
   "source": [
    "The units are harder to read than they need be, so lets change pints default format for displaying units."
   ]
  },
  {
   "cell_type": "code",
   "execution_count": 21,
   "metadata": {},
   "outputs": [
    {
     "data": {
      "text/html": [
       "<div>\n",
       "<style scoped>\n",
       "    .dataframe tbody tr th:only-of-type {\n",
       "        vertical-align: middle;\n",
       "    }\n",
       "\n",
       "    .dataframe tbody tr th {\n",
       "        vertical-align: top;\n",
       "    }\n",
       "\n",
       "    .dataframe thead tr th {\n",
       "        text-align: left;\n",
       "    }\n",
       "\n",
       "    .dataframe thead tr:last-of-type th {\n",
       "        text-align: right;\n",
       "    }\n",
       "</style>\n",
       "<table border=\"1\" class=\"dataframe\">\n",
       "  <thead>\n",
       "    <tr>\n",
       "      <th></th>\n",
       "      <th></th>\n",
       "      <th>ShaftSpeed</th>\n",
       "      <th>FlowRate</th>\n",
       "      <th>DifferentialPressure</th>\n",
       "      <th>ShaftPower</th>\n",
       "      <th>Efficiency</th>\n",
       "      <th>ShaftTorque</th>\n",
       "      <th>FluidPower</th>\n",
       "    </tr>\n",
       "    <tr>\n",
       "      <th></th>\n",
       "      <th>unit</th>\n",
       "      <th>revolutions_per_minute</th>\n",
       "      <th>liter / second</th>\n",
       "      <th>kilopascal</th>\n",
       "      <th>kilowatt</th>\n",
       "      <th>dimensionless</th>\n",
       "      <th>meter * newton</th>\n",
       "      <th>kilowatt</th>\n",
       "    </tr>\n",
       "    <tr>\n",
       "      <th>ShaftSpeedIndex</th>\n",
       "      <th>pump</th>\n",
       "      <th></th>\n",
       "      <th></th>\n",
       "      <th></th>\n",
       "      <th></th>\n",
       "      <th></th>\n",
       "      <th></th>\n",
       "      <th></th>\n",
       "    </tr>\n",
       "  </thead>\n",
       "  <tbody>\n",
       "    <tr>\n",
       "      <th rowspan=\"3\" valign=\"top\">1200</th>\n",
       "      <th>A</th>\n",
       "      <td>1200.0</td>\n",
       "      <td>2.422222</td>\n",
       "      <td>162.03</td>\n",
       "      <td>1.32</td>\n",
       "      <td>30.60</td>\n",
       "      <td>10.504226</td>\n",
       "      <td>0.392473</td>\n",
       "    </tr>\n",
       "    <tr>\n",
       "      <th>B</th>\n",
       "      <td>1200.0</td>\n",
       "      <td>2.577778</td>\n",
       "      <td>144.16</td>\n",
       "      <td>1.23</td>\n",
       "      <td>31.16</td>\n",
       "      <td>9.788029</td>\n",
       "      <td>0.371612</td>\n",
       "    </tr>\n",
       "    <tr>\n",
       "      <th>C</th>\n",
       "      <td>1200.0</td>\n",
       "      <td>2.586111</td>\n",
       "      <td>136.47</td>\n",
       "      <td>1.18</td>\n",
       "      <td>30.70</td>\n",
       "      <td>9.390142</td>\n",
       "      <td>0.352927</td>\n",
       "    </tr>\n",
       "    <tr>\n",
       "      <th rowspan=\"3\" valign=\"top\">1600</th>\n",
       "      <th>A</th>\n",
       "      <td>1600.0</td>\n",
       "      <td>3.225000</td>\n",
       "      <td>286.86</td>\n",
       "      <td>3.09</td>\n",
       "      <td>30.72</td>\n",
       "      <td>18.442079</td>\n",
       "      <td>0.925123</td>\n",
       "    </tr>\n",
       "    <tr>\n",
       "      <th>B</th>\n",
       "      <td>1600.0</td>\n",
       "      <td>3.550000</td>\n",
       "      <td>241.41</td>\n",
       "      <td>2.78</td>\n",
       "      <td>31.83</td>\n",
       "      <td>16.591903</td>\n",
       "      <td>0.857005</td>\n",
       "    </tr>\n",
       "    <tr>\n",
       "      <th>C</th>\n",
       "      <td>1600.0</td>\n",
       "      <td>3.752778</td>\n",
       "      <td>204.21</td>\n",
       "      <td>2.50</td>\n",
       "      <td>31.81</td>\n",
       "      <td>14.920776</td>\n",
       "      <td>0.766355</td>\n",
       "    </tr>\n",
       "    <tr>\n",
       "      <th rowspan=\"3\" valign=\"top\">2300</th>\n",
       "      <th>A</th>\n",
       "      <td>2300.0</td>\n",
       "      <td>5.088889</td>\n",
       "      <td>533.17</td>\n",
       "      <td>8.59</td>\n",
       "      <td>32.52</td>\n",
       "      <td>35.664547</td>\n",
       "      <td>2.713243</td>\n",
       "    </tr>\n",
       "    <tr>\n",
       "      <th>B</th>\n",
       "      <td>2300.0</td>\n",
       "      <td>4.972222</td>\n",
       "      <td>526.74</td>\n",
       "      <td>8.51</td>\n",
       "      <td>31.67</td>\n",
       "      <td>35.332397</td>\n",
       "      <td>2.619068</td>\n",
       "    </tr>\n",
       "    <tr>\n",
       "      <th>C</th>\n",
       "      <td>2300.0</td>\n",
       "      <td>5.341667</td>\n",
       "      <td>440.76</td>\n",
       "      <td>7.61</td>\n",
       "      <td>32.05</td>\n",
       "      <td>31.595716</td>\n",
       "      <td>2.354393</td>\n",
       "    </tr>\n",
       "  </tbody>\n",
       "</table>\n",
       "</div>"
      ],
      "text/plain": [
       "                                 ShaftSpeed       FlowRate  \\\n",
       "unit                 revolutions_per_minute liter / second   \n",
       "ShaftSpeedIndex pump                                         \n",
       "1200            A                    1200.0       2.422222   \n",
       "                B                    1200.0       2.577778   \n",
       "                C                    1200.0       2.586111   \n",
       "1600            A                    1600.0       3.225000   \n",
       "                B                    1600.0       3.550000   \n",
       "                C                    1600.0       3.752778   \n",
       "2300            A                    2300.0       5.088889   \n",
       "                B                    2300.0       4.972222   \n",
       "                C                    2300.0       5.341667   \n",
       "\n",
       "                     DifferentialPressure ShaftPower    Efficiency  \\\n",
       "unit                           kilopascal   kilowatt dimensionless   \n",
       "ShaftSpeedIndex pump                                                 \n",
       "1200            A                  162.03       1.32         30.60   \n",
       "                B                  144.16       1.23         31.16   \n",
       "                C                  136.47       1.18         30.70   \n",
       "1600            A                  286.86       3.09         30.72   \n",
       "                B                  241.41       2.78         31.83   \n",
       "                C                  204.21       2.50         31.81   \n",
       "2300            A                  533.17       8.59         32.52   \n",
       "                B                  526.74       8.51         31.67   \n",
       "                C                  440.76       7.61         32.05   \n",
       "\n",
       "                        ShaftTorque FluidPower  \n",
       "unit                 meter * newton   kilowatt  \n",
       "ShaftSpeedIndex pump                            \n",
       "1200            A         10.504226   0.392473  \n",
       "                B          9.788029   0.371612  \n",
       "                C          9.390142   0.352927  \n",
       "1600            A         18.442079   0.925123  \n",
       "                B         16.591903   0.857005  \n",
       "                C         14.920776   0.766355  \n",
       "2300            A         35.664547   2.713243  \n",
       "                B         35.332397   2.619068  \n",
       "                C         31.595716   2.354393  "
      ]
     },
     "execution_count": 21,
     "metadata": {},
     "output_type": "execute_result"
    }
   ],
   "source": [
    "df_.pint.dequantify()"
   ]
  },
  {
   "cell_type": "markdown",
   "metadata": {},
   "source": [
    "This allows for some rather powerful abilities. For example, to change single column units"
   ]
  },
  {
   "cell_type": "code",
   "execution_count": 22,
   "metadata": {},
   "outputs": [
    {
     "ename": "KeyError",
     "evalue": "'fluid power'",
     "output_type": "error",
     "traceback": [
      "\u001b[1;31m---------------------------------------------------------------------------\u001b[0m",
      "\u001b[1;31mKeyError\u001b[0m                                  Traceback (most recent call last)",
      "\u001b[1;32m~\\anaconda3\\envs\\pinttest\\lib\\site-packages\\pandas\\core\\indexes\\base.py\u001b[0m in \u001b[0;36mget_loc\u001b[1;34m(self, key, method, tolerance)\u001b[0m\n\u001b[0;32m   2645\u001b[0m             \u001b[1;32mtry\u001b[0m\u001b[1;33m:\u001b[0m\u001b[1;33m\u001b[0m\u001b[1;33m\u001b[0m\u001b[0m\n\u001b[1;32m-> 2646\u001b[1;33m                 \u001b[1;32mreturn\u001b[0m \u001b[0mself\u001b[0m\u001b[1;33m.\u001b[0m\u001b[0m_engine\u001b[0m\u001b[1;33m.\u001b[0m\u001b[0mget_loc\u001b[0m\u001b[1;33m(\u001b[0m\u001b[0mkey\u001b[0m\u001b[1;33m)\u001b[0m\u001b[1;33m\u001b[0m\u001b[1;33m\u001b[0m\u001b[0m\n\u001b[0m\u001b[0;32m   2647\u001b[0m             \u001b[1;32mexcept\u001b[0m \u001b[0mKeyError\u001b[0m\u001b[1;33m:\u001b[0m\u001b[1;33m\u001b[0m\u001b[1;33m\u001b[0m\u001b[0m\n",
      "\u001b[1;32mpandas\\_libs\\index.pyx\u001b[0m in \u001b[0;36mpandas._libs.index.IndexEngine.get_loc\u001b[1;34m()\u001b[0m\n",
      "\u001b[1;32mpandas\\_libs\\index.pyx\u001b[0m in \u001b[0;36mpandas._libs.index.IndexEngine.get_loc\u001b[1;34m()\u001b[0m\n",
      "\u001b[1;32mpandas\\_libs\\hashtable_class_helper.pxi\u001b[0m in \u001b[0;36mpandas._libs.hashtable.PyObjectHashTable.get_item\u001b[1;34m()\u001b[0m\n",
      "\u001b[1;32mpandas\\_libs\\hashtable_class_helper.pxi\u001b[0m in \u001b[0;36mpandas._libs.hashtable.PyObjectHashTable.get_item\u001b[1;34m()\u001b[0m\n",
      "\u001b[1;31mKeyError\u001b[0m: 'fluid power'",
      "\nDuring handling of the above exception, another exception occurred:\n",
      "\u001b[1;31mKeyError\u001b[0m                                  Traceback (most recent call last)",
      "\u001b[1;32m<ipython-input-22-64c7f8a50f1b>\u001b[0m in \u001b[0;36m<module>\u001b[1;34m\u001b[0m\n\u001b[1;32m----> 1\u001b[1;33m \u001b[0mdf_\u001b[0m\u001b[1;33m[\u001b[0m\u001b[1;34m'fluid power'\u001b[0m\u001b[1;33m]\u001b[0m \u001b[1;33m=\u001b[0m \u001b[0mdf_\u001b[0m\u001b[1;33m[\u001b[0m\u001b[1;34m'fluid power'\u001b[0m\u001b[1;33m]\u001b[0m\u001b[1;33m.\u001b[0m\u001b[0mpint\u001b[0m\u001b[1;33m.\u001b[0m\u001b[0mto\u001b[0m\u001b[1;33m(\u001b[0m\u001b[1;34m\"kW\"\u001b[0m\u001b[1;33m)\u001b[0m\u001b[1;33m\u001b[0m\u001b[1;33m\u001b[0m\u001b[0m\n\u001b[0m\u001b[0;32m      2\u001b[0m \u001b[0mdf_\u001b[0m\u001b[1;33m[\u001b[0m\u001b[1;34m'mech power'\u001b[0m\u001b[1;33m]\u001b[0m \u001b[1;33m=\u001b[0m \u001b[0mdf_\u001b[0m\u001b[1;33m[\u001b[0m\u001b[1;34m'mech power'\u001b[0m\u001b[1;33m]\u001b[0m\u001b[1;33m.\u001b[0m\u001b[0mpint\u001b[0m\u001b[1;33m.\u001b[0m\u001b[0mto\u001b[0m\u001b[1;33m(\u001b[0m\u001b[1;34m\"kW\"\u001b[0m\u001b[1;33m)\u001b[0m\u001b[1;33m\u001b[0m\u001b[1;33m\u001b[0m\u001b[0m\n\u001b[0;32m      3\u001b[0m \u001b[0mdf_\u001b[0m\u001b[1;33m.\u001b[0m\u001b[0mpint\u001b[0m\u001b[1;33m.\u001b[0m\u001b[0mdequantify\u001b[0m\u001b[1;33m(\u001b[0m\u001b[1;33m)\u001b[0m\u001b[1;33m\u001b[0m\u001b[1;33m\u001b[0m\u001b[0m\n",
      "\u001b[1;32m~\\anaconda3\\envs\\pinttest\\lib\\site-packages\\pandas\\core\\frame.py\u001b[0m in \u001b[0;36m__getitem__\u001b[1;34m(self, key)\u001b[0m\n\u001b[0;32m   2798\u001b[0m             \u001b[1;32mif\u001b[0m \u001b[0mself\u001b[0m\u001b[1;33m.\u001b[0m\u001b[0mcolumns\u001b[0m\u001b[1;33m.\u001b[0m\u001b[0mnlevels\u001b[0m \u001b[1;33m>\u001b[0m \u001b[1;36m1\u001b[0m\u001b[1;33m:\u001b[0m\u001b[1;33m\u001b[0m\u001b[1;33m\u001b[0m\u001b[0m\n\u001b[0;32m   2799\u001b[0m                 \u001b[1;32mreturn\u001b[0m \u001b[0mself\u001b[0m\u001b[1;33m.\u001b[0m\u001b[0m_getitem_multilevel\u001b[0m\u001b[1;33m(\u001b[0m\u001b[0mkey\u001b[0m\u001b[1;33m)\u001b[0m\u001b[1;33m\u001b[0m\u001b[1;33m\u001b[0m\u001b[0m\n\u001b[1;32m-> 2800\u001b[1;33m             \u001b[0mindexer\u001b[0m \u001b[1;33m=\u001b[0m \u001b[0mself\u001b[0m\u001b[1;33m.\u001b[0m\u001b[0mcolumns\u001b[0m\u001b[1;33m.\u001b[0m\u001b[0mget_loc\u001b[0m\u001b[1;33m(\u001b[0m\u001b[0mkey\u001b[0m\u001b[1;33m)\u001b[0m\u001b[1;33m\u001b[0m\u001b[1;33m\u001b[0m\u001b[0m\n\u001b[0m\u001b[0;32m   2801\u001b[0m             \u001b[1;32mif\u001b[0m \u001b[0mis_integer\u001b[0m\u001b[1;33m(\u001b[0m\u001b[0mindexer\u001b[0m\u001b[1;33m)\u001b[0m\u001b[1;33m:\u001b[0m\u001b[1;33m\u001b[0m\u001b[1;33m\u001b[0m\u001b[0m\n\u001b[0;32m   2802\u001b[0m                 \u001b[0mindexer\u001b[0m \u001b[1;33m=\u001b[0m \u001b[1;33m[\u001b[0m\u001b[0mindexer\u001b[0m\u001b[1;33m]\u001b[0m\u001b[1;33m\u001b[0m\u001b[1;33m\u001b[0m\u001b[0m\n",
      "\u001b[1;32m~\\anaconda3\\envs\\pinttest\\lib\\site-packages\\pandas\\core\\indexes\\base.py\u001b[0m in \u001b[0;36mget_loc\u001b[1;34m(self, key, method, tolerance)\u001b[0m\n\u001b[0;32m   2646\u001b[0m                 \u001b[1;32mreturn\u001b[0m \u001b[0mself\u001b[0m\u001b[1;33m.\u001b[0m\u001b[0m_engine\u001b[0m\u001b[1;33m.\u001b[0m\u001b[0mget_loc\u001b[0m\u001b[1;33m(\u001b[0m\u001b[0mkey\u001b[0m\u001b[1;33m)\u001b[0m\u001b[1;33m\u001b[0m\u001b[1;33m\u001b[0m\u001b[0m\n\u001b[0;32m   2647\u001b[0m             \u001b[1;32mexcept\u001b[0m \u001b[0mKeyError\u001b[0m\u001b[1;33m:\u001b[0m\u001b[1;33m\u001b[0m\u001b[1;33m\u001b[0m\u001b[0m\n\u001b[1;32m-> 2648\u001b[1;33m                 \u001b[1;32mreturn\u001b[0m \u001b[0mself\u001b[0m\u001b[1;33m.\u001b[0m\u001b[0m_engine\u001b[0m\u001b[1;33m.\u001b[0m\u001b[0mget_loc\u001b[0m\u001b[1;33m(\u001b[0m\u001b[0mself\u001b[0m\u001b[1;33m.\u001b[0m\u001b[0m_maybe_cast_indexer\u001b[0m\u001b[1;33m(\u001b[0m\u001b[0mkey\u001b[0m\u001b[1;33m)\u001b[0m\u001b[1;33m)\u001b[0m\u001b[1;33m\u001b[0m\u001b[1;33m\u001b[0m\u001b[0m\n\u001b[0m\u001b[0;32m   2649\u001b[0m         \u001b[0mindexer\u001b[0m \u001b[1;33m=\u001b[0m \u001b[0mself\u001b[0m\u001b[1;33m.\u001b[0m\u001b[0mget_indexer\u001b[0m\u001b[1;33m(\u001b[0m\u001b[1;33m[\u001b[0m\u001b[0mkey\u001b[0m\u001b[1;33m]\u001b[0m\u001b[1;33m,\u001b[0m \u001b[0mmethod\u001b[0m\u001b[1;33m=\u001b[0m\u001b[0mmethod\u001b[0m\u001b[1;33m,\u001b[0m \u001b[0mtolerance\u001b[0m\u001b[1;33m=\u001b[0m\u001b[0mtolerance\u001b[0m\u001b[1;33m)\u001b[0m\u001b[1;33m\u001b[0m\u001b[1;33m\u001b[0m\u001b[0m\n\u001b[0;32m   2650\u001b[0m         \u001b[1;32mif\u001b[0m \u001b[0mindexer\u001b[0m\u001b[1;33m.\u001b[0m\u001b[0mndim\u001b[0m \u001b[1;33m>\u001b[0m \u001b[1;36m1\u001b[0m \u001b[1;32mor\u001b[0m \u001b[0mindexer\u001b[0m\u001b[1;33m.\u001b[0m\u001b[0msize\u001b[0m \u001b[1;33m>\u001b[0m \u001b[1;36m1\u001b[0m\u001b[1;33m:\u001b[0m\u001b[1;33m\u001b[0m\u001b[1;33m\u001b[0m\u001b[0m\n",
      "\u001b[1;32mpandas\\_libs\\index.pyx\u001b[0m in \u001b[0;36mpandas._libs.index.IndexEngine.get_loc\u001b[1;34m()\u001b[0m\n",
      "\u001b[1;32mpandas\\_libs\\index.pyx\u001b[0m in \u001b[0;36mpandas._libs.index.IndexEngine.get_loc\u001b[1;34m()\u001b[0m\n",
      "\u001b[1;32mpandas\\_libs\\hashtable_class_helper.pxi\u001b[0m in \u001b[0;36mpandas._libs.hashtable.PyObjectHashTable.get_item\u001b[1;34m()\u001b[0m\n",
      "\u001b[1;32mpandas\\_libs\\hashtable_class_helper.pxi\u001b[0m in \u001b[0;36mpandas._libs.hashtable.PyObjectHashTable.get_item\u001b[1;34m()\u001b[0m\n",
      "\u001b[1;31mKeyError\u001b[0m: 'fluid power'"
     ]
    }
   ],
   "source": [
    "df_['fluid power'] = df_['fluid power'].pint.to(\"kW\")\n",
    "df_['mech power'] = df_['mech power'].pint.to(\"kW\")\n",
    "df_.pint.dequantify()"
   ]
  },
  {
   "cell_type": "markdown",
   "metadata": {},
   "source": [
    "The units are harder to read than they need be, so lets change pints default format for displaying units."
   ]
  },
  {
   "cell_type": "code",
   "execution_count": null,
   "metadata": {},
   "outputs": [],
   "source": [
    "pint_pandas.PintType.ureg.default_format = \"~P\"\n",
    "df_.pint.dequantify()"
   ]
  },
  {
   "cell_type": "markdown",
   "metadata": {},
   "source": [
    "or the entire table's units"
   ]
  },
  {
   "cell_type": "code",
   "execution_count": null,
   "metadata": {},
   "outputs": [],
   "source": [
    "df_.pint.to_base_units().pint.dequantify()"
   ]
  },
  {
   "cell_type": "markdown",
   "metadata": {},
   "source": [
    "## Advanced example\n",
    "This example shows alternative ways to use pint with pandas and other features.\n",
    "\n",
    "Start with the same imports."
   ]
  },
  {
   "cell_type": "code",
   "execution_count": null,
   "metadata": {},
   "outputs": [],
   "source": [
    "import pandas as pd \n",
    "import pint\n",
    "import pint_pandas"
   ]
  },
  {
   "cell_type": "markdown",
   "metadata": {},
   "source": [
    "We'll be use a shorthand for PintArray"
   ]
  },
  {
   "cell_type": "code",
   "execution_count": null,
   "metadata": {},
   "outputs": [],
   "source": [
    "PA_ = pint_pandas.PintArray"
   ]
  },
  {
   "cell_type": "markdown",
   "metadata": {},
   "source": [
    "And set up a unit registry and quantity shorthand."
   ]
  },
  {
   "cell_type": "code",
   "execution_count": null,
   "metadata": {},
   "outputs": [],
   "source": [
    "ureg = pint.UnitRegistry()\n",
    "Q_ = ureg.Quantity"
   ]
  },
  {
   "cell_type": "markdown",
   "metadata": {},
   "source": [
    "Operations between PintArrays of different unit registry will not work. We can change the unit registry that will be used in creating new PintArrays to prevent this issue."
   ]
  },
  {
   "cell_type": "code",
   "execution_count": null,
   "metadata": {},
   "outputs": [],
   "source": [
    "pint_pandas.PintType.ureg = ureg"
   ]
  },
  {
   "cell_type": "markdown",
   "metadata": {},
   "source": [
    "These are the possible ways to create a PintArray.\n",
    "\n",
    "Note that pint[unit] must be used for the Series constuctor, whereas the PintArray constructor allows the unit string or object."
   ]
  },
  {
   "cell_type": "code",
   "execution_count": null,
   "metadata": {},
   "outputs": [],
   "source": [
    "df = pd.DataFrame({\n",
    "        \"length\" : pd.Series([1,2], dtype=\"pint[m]\"),\n",
    "        \"width\" : PA_([2,3], dtype=\"pint[m]\"),\n",
    "        \"distance\" : PA_([2,3], dtype=\"m\"),\n",
    "        \"height\" : PA_([2,3], dtype=ureg.m),\n",
    "        \"depth\" : PA_.from_1darray_quantity(Q_([2,3],ureg.m)),\n",
    "    })\n",
    "df"
   ]
  },
  {
   "cell_type": "code",
   "execution_count": null,
   "metadata": {},
   "outputs": [],
   "source": [
    "df.length.values.units"
   ]
  }
 ],
 "metadata": {
  "anaconda-cloud": {},
  "kernelspec": {
   "display_name": "Python [conda env:pinttest]",
   "language": "python",
   "name": "conda-env-pinttest-py"
  },
  "language_info": {
   "codemirror_mode": {
    "name": "ipython",
    "version": 3
   },
   "file_extension": ".py",
   "mimetype": "text/x-python",
   "name": "python",
   "nbconvert_exporter": "python",
   "pygments_lexer": "ipython3",
   "version": "3.8.5"
  }
 },
 "nbformat": 4,
 "nbformat_minor": 2
}
